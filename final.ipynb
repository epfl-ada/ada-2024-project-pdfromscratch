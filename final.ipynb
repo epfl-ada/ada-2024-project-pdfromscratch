{
 "cells": [
  {
   "cell_type": "code",
   "execution_count": 1,
   "metadata": {},
   "outputs": [],
   "source": [
    "import pandas as pd\n",
    "import numpy as np\n",
    "import matplotlib.pyplot as plt\n",
    "import scipy.stats as stats\n",
    "import seaborn as sns\n",
    "import plotly.express as px\n",
    "import plotly\n",
    "import statsmodels.api as sm\n",
    "from statsmodels.tsa.seasonal import seasonal_decompose, STL\n",
    "import networkx as nx\n",
    "import networkx as nx\n",
    "from scipy.stats import f_oneway\n",
    "from statsmodels.stats.multicomp import pairwise_tukeyhsd\n",
    "\n",
    "sns.set_theme()"
   ]
  },
  {
   "cell_type": "markdown",
   "metadata": {},
   "source": [
    "# 1. Pre-processing"
   ]
  },
  {
   "cell_type": "code",
   "execution_count": 2,
   "metadata": {},
   "outputs": [],
   "source": [
    "df_ba_beers     = pd.read_csv('src/data/beer_advocate/beers.csv')\n",
    "# df_ba_breweries = pd.read_csv('src/data/beer_advocate/breweries.csv')\n",
    "df_ba_users     = pd.read_csv('src/data/beer_advocate/users.csv')\n",
    "df_ba_ratings   = pd.read_csv('src/data/beer_advocate/ratings.csv')\n",
    "df_ba_user_beer_style_past_ratings = pd.read_csv(\"src/data/beer_advocate/user_beer_style_past_ratings.csv\")"
   ]
  },
  {
   "cell_type": "code",
   "execution_count": 3,
   "metadata": {},
   "outputs": [],
   "source": [
    "df_rb_beers     = pd.read_csv('src/data/rate_beer/beers.csv')\n",
    "# df_rb_breweries = pd.read_csv('src/data/rate_beer/breweries.csv')\n",
    "df_rb_users     = pd.read_csv('src/data/rate_beer/users.csv')\n",
    "df_rb_ratings   = pd.read_csv('src/data/rate_beer/ratings.csv')\n",
    "df_rb_user_beer_style_past_ratings = pd.read_csv(\"src/data/rate_beer/user_beer_style_past_ratings.csv\")"
   ]
  },
  {
   "cell_type": "code",
   "execution_count": 4,
   "metadata": {},
   "outputs": [
    {
     "data": {
      "text/html": [
       "<div>\n",
       "<style scoped>\n",
       "    .dataframe tbody tr th:only-of-type {\n",
       "        vertical-align: middle;\n",
       "    }\n",
       "\n",
       "    .dataframe tbody tr th {\n",
       "        vertical-align: top;\n",
       "    }\n",
       "\n",
       "    .dataframe thead th {\n",
       "        text-align: right;\n",
       "    }\n",
       "</style>\n",
       "<table border=\"1\" class=\"dataframe\">\n",
       "  <thead>\n",
       "    <tr style=\"text-align: right;\">\n",
       "      <th></th>\n",
       "      <th>user_past_ratings_Bock_count</th>\n",
       "      <th>user_past_ratings_Brown Ale_count</th>\n",
       "      <th>user_past_ratings_Dark Ales_count</th>\n",
       "      <th>user_past_ratings_Dark Lager_count</th>\n",
       "      <th>user_past_ratings_Hybrid Beer_count</th>\n",
       "      <th>user_past_ratings_India Pale Ale_count</th>\n",
       "      <th>user_past_ratings_Pale Ale_count</th>\n",
       "      <th>user_past_ratings_Pale Lager_count</th>\n",
       "      <th>user_past_ratings_Porter_count</th>\n",
       "      <th>user_past_ratings_Speciality Beer_count</th>\n",
       "      <th>...</th>\n",
       "      <th>user_past_ratings_Pale Lager_average</th>\n",
       "      <th>user_past_ratings_Porter_average</th>\n",
       "      <th>user_past_ratings_Speciality Beer_average</th>\n",
       "      <th>user_past_ratings_Stout_average</th>\n",
       "      <th>user_past_ratings_Strong Ale_average</th>\n",
       "      <th>user_past_ratings_Wheat Beer_average</th>\n",
       "      <th>user_past_ratings_Wild/Sour Beer_average</th>\n",
       "      <th>user_id</th>\n",
       "      <th>date</th>\n",
       "      <th>beer_id</th>\n",
       "    </tr>\n",
       "  </thead>\n",
       "  <tbody>\n",
       "    <tr>\n",
       "      <th>0</th>\n",
       "      <td>0.0</td>\n",
       "      <td>2.0</td>\n",
       "      <td>0.0</td>\n",
       "      <td>0.0</td>\n",
       "      <td>0.0</td>\n",
       "      <td>5.0</td>\n",
       "      <td>11.0</td>\n",
       "      <td>0.0</td>\n",
       "      <td>1.0</td>\n",
       "      <td>0.0</td>\n",
       "      <td>...</td>\n",
       "      <td>0.00</td>\n",
       "      <td>4.9</td>\n",
       "      <td>0.0</td>\n",
       "      <td>3.55</td>\n",
       "      <td>0.0</td>\n",
       "      <td>0.0</td>\n",
       "      <td>0.0</td>\n",
       "      <td>2</td>\n",
       "      <td>959076000</td>\n",
       "      <td>37</td>\n",
       "    </tr>\n",
       "    <tr>\n",
       "      <th>1</th>\n",
       "      <td>0.0</td>\n",
       "      <td>2.0</td>\n",
       "      <td>0.0</td>\n",
       "      <td>1.0</td>\n",
       "      <td>0.0</td>\n",
       "      <td>5.0</td>\n",
       "      <td>12.0</td>\n",
       "      <td>2.0</td>\n",
       "      <td>1.0</td>\n",
       "      <td>0.0</td>\n",
       "      <td>...</td>\n",
       "      <td>2.35</td>\n",
       "      <td>4.9</td>\n",
       "      <td>0.0</td>\n",
       "      <td>3.55</td>\n",
       "      <td>0.0</td>\n",
       "      <td>0.0</td>\n",
       "      <td>0.0</td>\n",
       "      <td>2</td>\n",
       "      <td>959508000</td>\n",
       "      <td>47</td>\n",
       "    </tr>\n",
       "    <tr>\n",
       "      <th>2</th>\n",
       "      <td>0.0</td>\n",
       "      <td>2.0</td>\n",
       "      <td>0.0</td>\n",
       "      <td>1.0</td>\n",
       "      <td>1.0</td>\n",
       "      <td>5.0</td>\n",
       "      <td>15.0</td>\n",
       "      <td>3.0</td>\n",
       "      <td>1.0</td>\n",
       "      <td>0.0</td>\n",
       "      <td>...</td>\n",
       "      <td>2.70</td>\n",
       "      <td>4.9</td>\n",
       "      <td>0.0</td>\n",
       "      <td>3.55</td>\n",
       "      <td>0.0</td>\n",
       "      <td>4.1</td>\n",
       "      <td>0.0</td>\n",
       "      <td>2</td>\n",
       "      <td>961927200</td>\n",
       "      <td>48</td>\n",
       "    </tr>\n",
       "    <tr>\n",
       "      <th>3</th>\n",
       "      <td>0.0</td>\n",
       "      <td>1.0</td>\n",
       "      <td>0.0</td>\n",
       "      <td>0.0</td>\n",
       "      <td>0.0</td>\n",
       "      <td>1.0</td>\n",
       "      <td>3.0</td>\n",
       "      <td>0.0</td>\n",
       "      <td>1.0</td>\n",
       "      <td>0.0</td>\n",
       "      <td>...</td>\n",
       "      <td>0.00</td>\n",
       "      <td>4.9</td>\n",
       "      <td>0.0</td>\n",
       "      <td>2.40</td>\n",
       "      <td>0.0</td>\n",
       "      <td>0.0</td>\n",
       "      <td>0.0</td>\n",
       "      <td>2</td>\n",
       "      <td>957348000</td>\n",
       "      <td>86</td>\n",
       "    </tr>\n",
       "    <tr>\n",
       "      <th>4</th>\n",
       "      <td>0.0</td>\n",
       "      <td>1.0</td>\n",
       "      <td>0.0</td>\n",
       "      <td>0.0</td>\n",
       "      <td>0.0</td>\n",
       "      <td>1.0</td>\n",
       "      <td>4.0</td>\n",
       "      <td>0.0</td>\n",
       "      <td>1.0</td>\n",
       "      <td>0.0</td>\n",
       "      <td>...</td>\n",
       "      <td>0.00</td>\n",
       "      <td>4.9</td>\n",
       "      <td>0.0</td>\n",
       "      <td>2.40</td>\n",
       "      <td>0.0</td>\n",
       "      <td>0.0</td>\n",
       "      <td>0.0</td>\n",
       "      <td>2</td>\n",
       "      <td>957348000</td>\n",
       "      <td>89</td>\n",
       "    </tr>\n",
       "  </tbody>\n",
       "</table>\n",
       "<p>5 rows × 31 columns</p>\n",
       "</div>"
      ],
      "text/plain": [
       "   user_past_ratings_Bock_count  user_past_ratings_Brown Ale_count  \\\n",
       "0                           0.0                                2.0   \n",
       "1                           0.0                                2.0   \n",
       "2                           0.0                                2.0   \n",
       "3                           0.0                                1.0   \n",
       "4                           0.0                                1.0   \n",
       "\n",
       "   user_past_ratings_Dark Ales_count  user_past_ratings_Dark Lager_count  \\\n",
       "0                                0.0                                 0.0   \n",
       "1                                0.0                                 1.0   \n",
       "2                                0.0                                 1.0   \n",
       "3                                0.0                                 0.0   \n",
       "4                                0.0                                 0.0   \n",
       "\n",
       "   user_past_ratings_Hybrid Beer_count  \\\n",
       "0                                  0.0   \n",
       "1                                  0.0   \n",
       "2                                  1.0   \n",
       "3                                  0.0   \n",
       "4                                  0.0   \n",
       "\n",
       "   user_past_ratings_India Pale Ale_count  user_past_ratings_Pale Ale_count  \\\n",
       "0                                     5.0                              11.0   \n",
       "1                                     5.0                              12.0   \n",
       "2                                     5.0                              15.0   \n",
       "3                                     1.0                               3.0   \n",
       "4                                     1.0                               4.0   \n",
       "\n",
       "   user_past_ratings_Pale Lager_count  user_past_ratings_Porter_count  \\\n",
       "0                                 0.0                             1.0   \n",
       "1                                 2.0                             1.0   \n",
       "2                                 3.0                             1.0   \n",
       "3                                 0.0                             1.0   \n",
       "4                                 0.0                             1.0   \n",
       "\n",
       "   user_past_ratings_Speciality Beer_count  ...  \\\n",
       "0                                      0.0  ...   \n",
       "1                                      0.0  ...   \n",
       "2                                      0.0  ...   \n",
       "3                                      0.0  ...   \n",
       "4                                      0.0  ...   \n",
       "\n",
       "   user_past_ratings_Pale Lager_average  user_past_ratings_Porter_average  \\\n",
       "0                                  0.00                               4.9   \n",
       "1                                  2.35                               4.9   \n",
       "2                                  2.70                               4.9   \n",
       "3                                  0.00                               4.9   \n",
       "4                                  0.00                               4.9   \n",
       "\n",
       "   user_past_ratings_Speciality Beer_average  user_past_ratings_Stout_average  \\\n",
       "0                                        0.0                             3.55   \n",
       "1                                        0.0                             3.55   \n",
       "2                                        0.0                             3.55   \n",
       "3                                        0.0                             2.40   \n",
       "4                                        0.0                             2.40   \n",
       "\n",
       "   user_past_ratings_Strong Ale_average  user_past_ratings_Wheat Beer_average  \\\n",
       "0                                   0.0                                   0.0   \n",
       "1                                   0.0                                   0.0   \n",
       "2                                   0.0                                   4.1   \n",
       "3                                   0.0                                   0.0   \n",
       "4                                   0.0                                   0.0   \n",
       "\n",
       "   user_past_ratings_Wild/Sour Beer_average  user_id       date  beer_id  \n",
       "0                                       0.0        2  959076000       37  \n",
       "1                                       0.0        2  959508000       47  \n",
       "2                                       0.0        2  961927200       48  \n",
       "3                                       0.0        2  957348000       86  \n",
       "4                                       0.0        2  957348000       89  \n",
       "\n",
       "[5 rows x 31 columns]"
      ]
     },
     "execution_count": 4,
     "metadata": {},
     "output_type": "execute_result"
    }
   ],
   "source": [
    "df_rb_user_beer_style_past_ratings.head()"
   ]
  },
  {
   "cell_type": "code",
   "execution_count": 5,
   "metadata": {},
   "outputs": [],
   "source": [
    "df_ba_ratings = df_ba_ratings.loc[~(df_ba_ratings['beer_global_style'] == 'Low Alcohol Beer')]\n",
    "df_rb_ratings = df_rb_ratings.loc[~(df_rb_ratings['beer_global_style'] == 'Low Alcohol Beer')]"
   ]
  },
  {
   "cell_type": "code",
   "execution_count": 6,
   "metadata": {},
   "outputs": [],
   "source": [
    "df_ba_user_beer_style_past_ratings = df_ba_user_beer_style_past_ratings.drop(columns=['user_past_ratings_Low Alcohol Beer_count', 'user_past_ratings_Low Alcohol Beer_average'], errors='ignore')\n",
    "df_rb_user_beer_style_past_ratings = df_rb_user_beer_style_past_ratings.drop(columns=['user_past_ratings_Low Alcohol Beer_count', 'user_past_ratings_Low Alcohol Beer_average'], errors='ignore')"
   ]
  },
  {
   "cell_type": "code",
   "execution_count": 7,
   "metadata": {},
   "outputs": [],
   "source": [
    "df_ba_ratings.loc[:,\"user_beer_style_past_ratings_count\"] = df_ba_ratings[\"user_beer_style_past_ratings_count\"] - 1\n",
    "df_ba_ratings.loc[df_ba_ratings[\"user_beer_style_past_ratings_count\"] == 0,\"user_beer_style_past_ratings_average\"] = np.nan\n",
    "\n",
    "df_rb_ratings.loc[:,\"user_beer_style_past_ratings_count\"] = df_rb_ratings[\"user_beer_style_past_ratings_count\"] - 1\n",
    "df_rb_ratings.loc[df_rb_ratings[\"user_beer_style_past_ratings_count\"] == 0,\"user_beer_style_past_ratings_average\"] = np.nan"
   ]
  },
  {
   "cell_type": "code",
   "execution_count": 8,
   "metadata": {},
   "outputs": [],
   "source": [
    "def create_time_variables(dataframe: pd.DataFrame) -> pd.DataFrame:\n",
    "    dataframe['day']     = pd.to_datetime(dataframe['date'], unit='s').dt.round('D')\n",
    "    dataframe['week']    = pd.to_datetime(dataframe['date'], unit='s').dt.to_period('W').dt.start_time\n",
    "    dataframe['month']   = pd.to_datetime(dataframe['date'], unit='s').dt.to_period('M').dt.start_time\n",
    "    dataframe['quarter'] = pd.to_datetime(dataframe['date'], unit='s').dt.to_period('Q')\n",
    "    dataframe['year']    = pd.to_datetime(dataframe['date'], unit='s').dt.to_period('Y')\n",
    "    return dataframe "
   ]
  },
  {
   "cell_type": "code",
   "execution_count": 9,
   "metadata": {},
   "outputs": [],
   "source": [
    "df_ba_ratings = create_time_variables(df_ba_ratings)\n",
    "df_rb_ratings = create_time_variables(df_rb_ratings)"
   ]
  },
  {
   "cell_type": "markdown",
   "metadata": {},
   "source": [
    "# 2. Data selection"
   ]
  },
  {
   "cell_type": "code",
   "execution_count": 10,
   "metadata": {},
   "outputs": [
    {
     "data": {
      "text/plain": [
       "<matplotlib.legend.Legend at 0x1bcecff80>"
      ]
     },
     "execution_count": 10,
     "metadata": {},
     "output_type": "execute_result"
    },
    {
     "data": {
      "image/png": "[encoded data removed]",
      "text/plain": [
       "<Figure size 640x480 with 1 Axes>"
      ]
     },
     "metadata": {},
     "output_type": "display_data"
    }
   ],
   "source": [
    "plt.title('Cumulative active users')\n",
    "plt.xlabel('Month')\n",
    "plt.ylabel('Active users')\n",
    "pd.to_datetime(df_ba_ratings.sort_values(['date']).groupby('user_id')['date'].first(), unit='s').dt.to_period('M').value_counts().sort_index().cumsum().plot(label='BeerAdvocate')\n",
    "pd.to_datetime(df_rb_ratings.sort_values(['date']).groupby('user_id')['date'].first(), unit='s').dt.to_period('M').value_counts().sort_index().cumsum().plot(label='RateBeer')\n",
    "plt.legend()"
   ]
  },
  {
   "cell_type": "code",
   "execution_count": 11,
   "metadata": {},
   "outputs": [],
   "source": [
    "def compute_cumulative_ratings_count(dataframe: pd.DataFrame):\n",
    "    dataframe = dataframe.sort_values(['date'])\n",
    "    dataframe['_count'] = 1\n",
    "    dataframe['cumulative_ratings_count'] = dataframe['_count'].cumsum()\n",
    "    dataframe = dataframe.drop(columns=['_count'])\n",
    "    return dataframe"
   ]
  },
  {
   "cell_type": "code",
   "execution_count": 12,
   "metadata": {},
   "outputs": [
    {
     "data": {
      "text/plain": [
       "<Axes: title={'center': 'Cumulative ratings count'}, xlabel='month', ylabel='Cumulative ratings count'>"
      ]
     },
     "execution_count": 12,
     "metadata": {},
     "output_type": "execute_result"
    },
    {
     "data": {
      "image/png": "[encoded data removed]",
      "text/plain": [
       "<Figure size 640x480 with 1 Axes>"
      ]
     },
     "metadata": {},
     "output_type": "display_data"
    }
   ],
   "source": [
    "fig, ax = plt.subplots()\n",
    "plt.title('Cumulative ratings count')\n",
    "plt.xlabel('Month')\n",
    "plt.ylabel('Cumulative ratings count')\n",
    "compute_cumulative_ratings_count(df_ba_ratings).plot(x='month', y='cumulative_ratings_count', label='BeerAdvocate', ax=ax)\n",
    "compute_cumulative_ratings_count(df_rb_ratings).plot(x='month', y='cumulative_ratings_count', label='RateBeer', ax=ax)"
   ]
  },
  {
   "cell_type": "code",
   "execution_count": 13,
   "metadata": {},
   "outputs": [],
   "source": [
    "def remove_before_month(dataframe: pd.DataFrame, month: str) -> pd.DataFrame:\n",
    "    dataframe = dataframe.sort_values(['user_id', 'date'])\n",
    "    dataframe = dataframe.merge(\n",
    "        (dataframe.groupby('user_id')['month'].first() >= month).reset_index().rename(columns={'month': 'is_first_rating_after_month'}),\n",
    "        on='user_id'\n",
    "    )\n",
    "    dataframe = dataframe[dataframe['is_first_rating_after_month']]\n",
    "    dataframe = dataframe.drop(columns=['is_first_rating_after_month'])\n",
    "    return dataframe"
   ]
  },
  {
   "cell_type": "code",
   "execution_count": 14,
   "metadata": {},
   "outputs": [],
   "source": [
    "df_ba_ratings = remove_before_month(df_ba_ratings, '2004-01')\n",
    "df_rb_ratings = remove_before_month(df_rb_ratings, '2004-01')"
   ]
  },
  {
   "cell_type": "markdown",
   "metadata": {},
   "source": [
    "# 3. Beer Advocate vs Rate Beer"
   ]
  },
  {
   "cell_type": "markdown",
   "metadata": {},
   "source": [
    "# 4. Expert"
   ]
  },
  {
   "cell_type": "code",
   "execution_count": 15,
   "metadata": {},
   "outputs": [],
   "source": [
    "from src.utils.beer_knowledge import (\n",
    "    number_of_beer_per_style,\n",
    "    add_global_knowledge, \n",
    "    add_local_knowledge, \n",
    "    add_experts, \n",
    "    get_expert_per_day, \n",
    "    get_global_expert_per_day\n",
    ")"
   ]
  },
  {
   "cell_type": "code",
   "execution_count": 24,
   "metadata": {},
   "outputs": [],
   "source": [
    "df_ba_current_beer_per_style = number_of_beer_per_style(df_ba_ratings)\n",
    "df_rb_current_beer_per_style = number_of_beer_per_style(df_rb_ratings)\n",
    "\n",
    "df_ba_current_beer_per_style.drop(df_ba_current_beer_per_style[df_ba_current_beer_per_style[\"day\"] < \"2004-01-01\"].index, axis=0, inplace=True)\n",
    "df_rb_current_beer_per_style.drop(df_rb_current_beer_per_style[df_rb_current_beer_per_style[\"day\"] < \"2004-01-01\"].index, axis=0, inplace=True)"
   ]
  },
  {
   "cell_type": "code",
   "execution_count": 25,
   "metadata": {},
   "outputs": [],
   "source": [
    "df_ba_user_beer_style_past_ratings = df_ba_user_beer_style_past_ratings[df_ba_user_beer_style_past_ratings[\"user_id\"].isin(df_ba_ratings[\"user_id\"].drop_duplicates())]\n",
    "df_rb_user_beer_style_past_ratings = df_rb_user_beer_style_past_ratings[df_rb_user_beer_style_past_ratings[\"user_id\"].isin(df_rb_ratings[\"user_id\"].drop_duplicates())]"
   ]
  },
  {
   "cell_type": "code",
   "execution_count": 32,
   "metadata": {},
   "outputs": [],
   "source": [
    "df_ba_user_beer_style_past_ratings['day'] = pd.to_datetime(df_ba_user_beer_style_past_ratings['date'], unit=\"s\").dt.round('D')\n",
    "df_rb_user_beer_style_past_ratings['day'] = pd.to_datetime(df_rb_user_beer_style_past_ratings['date'], unit=\"s\").dt.round('D')"
   ]
  },
  {
   "cell_type": "code",
   "execution_count": 27,
   "metadata": {},
   "outputs": [
    {
     "data": {
      "image/png": "[encoded data removed]",
      "text/plain": [
       "<Figure size 1200x600 with 2 Axes>"
      ]
     },
     "metadata": {},
     "output_type": "display_data"
    }
   ],
   "source": [
    "fig, axs = plt.subplots(1, 2, figsize=(12, 6))\n",
    "axs = axs.ravel()\n",
    "\n",
    "axs[0].set_title('(BeerAdvocate) Number of beers per style')\n",
    "axs[1].set_title('(RateBeer) Number of beers per style')\n",
    "axs[0].set_xlabel('Day')\n",
    "axs[1].set_xlabel('Day')\n",
    "axs[0].set_ylabel('Number of beers')\n",
    "\n",
    "df_ba_current_beer_per_style.plot(x='day', ax=axs[0])\n",
    "df_rb_current_beer_per_style.plot(x='day', ax=axs[1])\n",
    "\n",
    "plt.tight_layout()\n",
    "plt.show()"
   ]
  },
  {
   "cell_type": "code",
   "execution_count": 31,
   "metadata": {},
   "outputs": [
    {
     "data": {
      "text/html": [
       "<div>\n",
       "<style scoped>\n",
       "    .dataframe tbody tr th:only-of-type {\n",
       "        vertical-align: middle;\n",
       "    }\n",
       "\n",
       "    .dataframe tbody tr th {\n",
       "        vertical-align: top;\n",
       "    }\n",
       "\n",
       "    .dataframe thead th {\n",
       "        text-align: right;\n",
       "    }\n",
       "</style>\n",
       "<table border=\"1\" class=\"dataframe\">\n",
       "  <thead>\n",
       "    <tr style=\"text-align: right;\">\n",
       "      <th></th>\n",
       "      <th>user_past_ratings_Bock_count</th>\n",
       "      <th>user_past_ratings_Brown Ale_count</th>\n",
       "      <th>user_past_ratings_Dark Ales_count</th>\n",
       "      <th>user_past_ratings_Dark Lager_count</th>\n",
       "      <th>user_past_ratings_Hybrid Beer_count</th>\n",
       "      <th>user_past_ratings_India Pale Ale_count</th>\n",
       "      <th>user_past_ratings_Pale Ale_count</th>\n",
       "      <th>user_past_ratings_Pale Lager_count</th>\n",
       "      <th>user_past_ratings_Porter_count</th>\n",
       "      <th>user_past_ratings_Speciality Beer_count</th>\n",
       "      <th>...</th>\n",
       "      <th>user_past_ratings_Stout_average</th>\n",
       "      <th>user_past_ratings_Strong Ale_average</th>\n",
       "      <th>user_past_ratings_Wheat Beer_average</th>\n",
       "      <th>user_past_ratings_Wild/Sour Beer_average</th>\n",
       "      <th>user_id</th>\n",
       "      <th>date</th>\n",
       "      <th>beer_id</th>\n",
       "      <th>style_tried</th>\n",
       "      <th>style_tried_share</th>\n",
       "      <th>mean_beer_tried</th>\n",
       "    </tr>\n",
       "  </thead>\n",
       "  <tbody>\n",
       "    <tr>\n",
       "      <th>0</th>\n",
       "      <td>108.0</td>\n",
       "      <td>206.0</td>\n",
       "      <td>322.0</td>\n",
       "      <td>168.0</td>\n",
       "      <td>43.0</td>\n",
       "      <td>1003.0</td>\n",
       "      <td>1243.0</td>\n",
       "      <td>323.0</td>\n",
       "      <td>295.0</td>\n",
       "      <td>297.0</td>\n",
       "      <td>...</td>\n",
       "      <td>3.913716</td>\n",
       "      <td>3.862249</td>\n",
       "      <td>3.568638</td>\n",
       "      <td>3.88506</td>\n",
       "      <td>nmann08.184925</td>\n",
       "      <td>1440064800</td>\n",
       "      <td>142544</td>\n",
       "      <td>14.0</td>\n",
       "      <td>1.000000</td>\n",
       "      <td>422.357143</td>\n",
       "    </tr>\n",
       "    <tr>\n",
       "      <th>1</th>\n",
       "      <td>1.0</td>\n",
       "      <td>0.0</td>\n",
       "      <td>2.0</td>\n",
       "      <td>2.0</td>\n",
       "      <td>0.0</td>\n",
       "      <td>8.0</td>\n",
       "      <td>3.0</td>\n",
       "      <td>0.0</td>\n",
       "      <td>3.0</td>\n",
       "      <td>1.0</td>\n",
       "      <td>...</td>\n",
       "      <td>3.896667</td>\n",
       "      <td>0.000000</td>\n",
       "      <td>3.800000</td>\n",
       "      <td>0.00000</td>\n",
       "      <td>stjamesgate.163714</td>\n",
       "      <td>1235127600</td>\n",
       "      <td>19590</td>\n",
       "      <td>9.0</td>\n",
       "      <td>0.642857</td>\n",
       "      <td>3.000000</td>\n",
       "    </tr>\n",
       "    <tr>\n",
       "      <th>2</th>\n",
       "      <td>3.0</td>\n",
       "      <td>3.0</td>\n",
       "      <td>17.0</td>\n",
       "      <td>5.0</td>\n",
       "      <td>0.0</td>\n",
       "      <td>4.0</td>\n",
       "      <td>29.0</td>\n",
       "      <td>8.0</td>\n",
       "      <td>8.0</td>\n",
       "      <td>11.0</td>\n",
       "      <td>...</td>\n",
       "      <td>4.155000</td>\n",
       "      <td>4.197333</td>\n",
       "      <td>4.089000</td>\n",
       "      <td>3.98625</td>\n",
       "      <td>mdagnew.19527</td>\n",
       "      <td>1142247600</td>\n",
       "      <td>19590</td>\n",
       "      <td>13.0</td>\n",
       "      <td>0.928571</td>\n",
       "      <td>10.230769</td>\n",
       "    </tr>\n",
       "    <tr>\n",
       "      <th>3</th>\n",
       "      <td>0.0</td>\n",
       "      <td>0.0</td>\n",
       "      <td>0.0</td>\n",
       "      <td>0.0</td>\n",
       "      <td>0.0</td>\n",
       "      <td>0.0</td>\n",
       "      <td>1.0</td>\n",
       "      <td>0.0</td>\n",
       "      <td>0.0</td>\n",
       "      <td>0.0</td>\n",
       "      <td>...</td>\n",
       "      <td>0.000000</td>\n",
       "      <td>0.000000</td>\n",
       "      <td>0.000000</td>\n",
       "      <td>0.00000</td>\n",
       "      <td>helloloser12345.10867</td>\n",
       "      <td>1101898800</td>\n",
       "      <td>19590</td>\n",
       "      <td>1.0</td>\n",
       "      <td>0.071429</td>\n",
       "      <td>1.000000</td>\n",
       "    </tr>\n",
       "    <tr>\n",
       "      <th>4</th>\n",
       "      <td>0.0</td>\n",
       "      <td>6.0</td>\n",
       "      <td>6.0</td>\n",
       "      <td>6.0</td>\n",
       "      <td>1.0</td>\n",
       "      <td>5.0</td>\n",
       "      <td>43.0</td>\n",
       "      <td>62.0</td>\n",
       "      <td>2.0</td>\n",
       "      <td>4.0</td>\n",
       "      <td>...</td>\n",
       "      <td>3.771818</td>\n",
       "      <td>3.801111</td>\n",
       "      <td>3.623000</td>\n",
       "      <td>4.52000</td>\n",
       "      <td>cypressbob.3708</td>\n",
       "      <td>1093860000</td>\n",
       "      <td>19590</td>\n",
       "      <td>13.0</td>\n",
       "      <td>0.928571</td>\n",
       "      <td>12.769231</td>\n",
       "    </tr>\n",
       "  </tbody>\n",
       "</table>\n",
       "<p>5 rows × 34 columns</p>\n",
       "</div>"
      ],
      "text/plain": [
       "   user_past_ratings_Bock_count  user_past_ratings_Brown Ale_count  \\\n",
       "0                         108.0                              206.0   \n",
       "1                           1.0                                0.0   \n",
       "2                           3.0                                3.0   \n",
       "3                           0.0                                0.0   \n",
       "4                           0.0                                6.0   \n",
       "\n",
       "   user_past_ratings_Dark Ales_count  user_past_ratings_Dark Lager_count  \\\n",
       "0                              322.0                               168.0   \n",
       "1                                2.0                                 2.0   \n",
       "2                               17.0                                 5.0   \n",
       "3                                0.0                                 0.0   \n",
       "4                                6.0                                 6.0   \n",
       "\n",
       "   user_past_ratings_Hybrid Beer_count  \\\n",
       "0                                 43.0   \n",
       "1                                  0.0   \n",
       "2                                  0.0   \n",
       "3                                  0.0   \n",
       "4                                  1.0   \n",
       "\n",
       "   user_past_ratings_India Pale Ale_count  user_past_ratings_Pale Ale_count  \\\n",
       "0                                  1003.0                            1243.0   \n",
       "1                                     8.0                               3.0   \n",
       "2                                     4.0                              29.0   \n",
       "3                                     0.0                               1.0   \n",
       "4                                     5.0                              43.0   \n",
       "\n",
       "   user_past_ratings_Pale Lager_count  user_past_ratings_Porter_count  \\\n",
       "0                               323.0                           295.0   \n",
       "1                                 0.0                             3.0   \n",
       "2                                 8.0                             8.0   \n",
       "3                                 0.0                             0.0   \n",
       "4                                62.0                             2.0   \n",
       "\n",
       "   user_past_ratings_Speciality Beer_count  ...  \\\n",
       "0                                    297.0  ...   \n",
       "1                                      1.0  ...   \n",
       "2                                     11.0  ...   \n",
       "3                                      0.0  ...   \n",
       "4                                      4.0  ...   \n",
       "\n",
       "   user_past_ratings_Stout_average  user_past_ratings_Strong Ale_average  \\\n",
       "0                         3.913716                              3.862249   \n",
       "1                         3.896667                              0.000000   \n",
       "2                         4.155000                              4.197333   \n",
       "3                         0.000000                              0.000000   \n",
       "4                         3.771818                              3.801111   \n",
       "\n",
       "   user_past_ratings_Wheat Beer_average  \\\n",
       "0                              3.568638   \n",
       "1                              3.800000   \n",
       "2                              4.089000   \n",
       "3                              0.000000   \n",
       "4                              3.623000   \n",
       "\n",
       "   user_past_ratings_Wild/Sour Beer_average                user_id  \\\n",
       "0                                   3.88506         nmann08.184925   \n",
       "1                                   0.00000     stjamesgate.163714   \n",
       "2                                   3.98625          mdagnew.19527   \n",
       "3                                   0.00000  helloloser12345.10867   \n",
       "4                                   4.52000        cypressbob.3708   \n",
       "\n",
       "         date  beer_id  style_tried  style_tried_share  mean_beer_tried  \n",
       "0  1440064800   142544         14.0           1.000000       422.357143  \n",
       "1  1235127600    19590          9.0           0.642857         3.000000  \n",
       "2  1142247600    19590         13.0           0.928571        10.230769  \n",
       "3  1101898800    19590          1.0           0.071429         1.000000  \n",
       "4  1093860000    19590         13.0           0.928571        12.769231  \n",
       "\n",
       "[5 rows x 34 columns]"
      ]
     },
     "execution_count": 31,
     "metadata": {},
     "output_type": "execute_result"
    }
   ],
   "source": [
    "df_ba_user_beer_style_past_ratings.head()"
   ]
  },
  {
   "cell_type": "code",
   "execution_count": 33,
   "metadata": {},
   "outputs": [
    {
     "name": "stderr",
     "output_type": "stream",
     "text": [
      "/Users/jnsffrt/epfl/ma1/cs401/PDfromSCRATCH_project/src/utils/beer_knowledge.py:105: RuntimeWarning: invalid value encountered in divide\n",
      "  df_users_past_beer_style[count_columns].values\n"
     ]
    },
    {
     "ename": "AttributeError",
     "evalue": "module 'numpy' has no attribute 'pow'",
     "output_type": "error",
     "traceback": [
      "\u001b[0;31m---------------------------------------------------------------------------\u001b[0m",
      "\u001b[0;31mAttributeError\u001b[0m                            Traceback (most recent call last)",
      "Cell \u001b[0;32mIn[33], line 6\u001b[0m\n\u001b[1;32m      3\u001b[0m ba_max_columns \u001b[38;5;241m=\u001b[39m [col \u001b[38;5;28;01mfor\u001b[39;00m col \u001b[38;5;129;01min\u001b[39;00m df_ba_current_beer_per_style\u001b[38;5;241m.\u001b[39mcolumns \u001b[38;5;28;01mif\u001b[39;00m \u001b[38;5;124m\"\u001b[39m\u001b[38;5;124mmax\u001b[39m\u001b[38;5;124m\"\u001b[39m \u001b[38;5;129;01min\u001b[39;00m col]\n\u001b[1;32m      5\u001b[0m df_ba_user_beer_style_past_ratings \u001b[38;5;241m=\u001b[39m add_global_knowledge(df_ba_current_beer_per_style, df_ba_user_beer_style_past_ratings, ba_count_columns)\n\u001b[0;32m----> 6\u001b[0m df_ba_user_beer_style_past_ratings, df_ba_local_knowledge \u001b[38;5;241m=\u001b[39m \u001b[43madd_local_knowledge\u001b[49m\u001b[43m(\u001b[49m\u001b[43mdf_ba_current_beer_per_style\u001b[49m\u001b[43m,\u001b[49m\u001b[43m \u001b[49m\u001b[43mdf_ba_user_beer_style_past_ratings\u001b[49m\u001b[43m,\u001b[49m\u001b[43m \u001b[49m\u001b[43mba_max_columns\u001b[49m\u001b[43m,\u001b[49m\u001b[43m \u001b[49m\u001b[43mba_count_columns\u001b[49m\u001b[43m)\u001b[49m\n\u001b[1;32m      8\u001b[0m df_ba_knowledge \u001b[38;5;241m=\u001b[39m df_ba_user_beer_style_past_ratings[[\u001b[38;5;124m\"\u001b[39m\u001b[38;5;124muser_id\u001b[39m\u001b[38;5;124m\"\u001b[39m,\u001b[38;5;124m\"\u001b[39m\u001b[38;5;124mday\u001b[39m\u001b[38;5;124m\"\u001b[39m,\u001b[38;5;124m\"\u001b[39m\u001b[38;5;124mbeer_id\u001b[39m\u001b[38;5;124m\"\u001b[39m,\u001b[38;5;124m\"\u001b[39m\u001b[38;5;124mglobal_knowledge\u001b[39m\u001b[38;5;124m\"\u001b[39m,\u001b[38;5;124m\"\u001b[39m\u001b[38;5;124mlocal_knowledge\u001b[39m\u001b[38;5;124m\"\u001b[39m,\u001b[38;5;124m\"\u001b[39m\u001b[38;5;124mstyle_tried\u001b[39m\u001b[38;5;124m\"\u001b[39m]]\n\u001b[1;32m      9\u001b[0m df_ba_knowledge\u001b[38;5;241m.\u001b[39mloc[:,\u001b[38;5;124m\"\u001b[39m\u001b[38;5;124mknowledge\u001b[39m\u001b[38;5;124m\"\u001b[39m] \u001b[38;5;241m=\u001b[39m (df_ba_knowledge[\u001b[38;5;124m\"\u001b[39m\u001b[38;5;124mglobal_knowledge\u001b[39m\u001b[38;5;124m\"\u001b[39m] \u001b[38;5;241m+\u001b[39m df_ba_knowledge[\u001b[38;5;124m\"\u001b[39m\u001b[38;5;124mlocal_knowledge\u001b[39m\u001b[38;5;124m\"\u001b[39m]) \u001b[38;5;241m/\u001b[39m \u001b[38;5;241m2\u001b[39m\n",
      "File \u001b[0;32m~/epfl/ma1/cs401/PDfromSCRATCH_project/src/utils/beer_knowledge.py:109\u001b[0m, in \u001b[0;36madd_local_knowledge\u001b[0;34m(df_current_beer_per_style_year, df_users_past_beer_style, max_columns, count_columns)\u001b[0m\n\u001b[1;32m    100\u001b[0m df_users_past_beer_style[max_columns] \u001b[38;5;241m=\u001b[39m df_users_past_beer_style[\n\u001b[1;32m    101\u001b[0m     max_columns\n\u001b[1;32m    102\u001b[0m ]\u001b[38;5;241m.\u001b[39mffill()\n\u001b[1;32m    104\u001b[0m df_shares_by_style \u001b[38;5;241m=\u001b[39m pd\u001b[38;5;241m.\u001b[39mDataFrame(\n\u001b[1;32m    105\u001b[0m     df_users_past_beer_style[count_columns]\u001b[38;5;241m.\u001b[39mvalues\n\u001b[1;32m    106\u001b[0m     \u001b[38;5;241m/\u001b[39m df_users_past_beer_style[max_columns]\u001b[38;5;241m.\u001b[39mvalues\n\u001b[1;32m    107\u001b[0m )\n\u001b[0;32m--> 109\u001b[0m df_local_knowledge \u001b[38;5;241m=\u001b[39m \u001b[43mnp\u001b[49m\u001b[38;5;241;43m.\u001b[39;49m\u001b[43mpow\u001b[49m(df_shares_by_style, \u001b[38;5;241m1\u001b[39m \u001b[38;5;241m/\u001b[39m \u001b[38;5;241m3\u001b[39m)\n\u001b[1;32m    110\u001b[0m df_local_knowledge\u001b[38;5;241m.\u001b[39mrename(\n\u001b[1;32m    111\u001b[0m     columns\u001b[38;5;241m=\u001b[39m{\n\u001b[1;32m    112\u001b[0m         \u001b[38;5;241m0\u001b[39m: \u001b[38;5;124m\"\u001b[39m\u001b[38;5;124mBock\u001b[39m\u001b[38;5;124m\"\u001b[39m,\n\u001b[0;32m   (...)\u001b[0m\n\u001b[1;32m    127\u001b[0m     inplace\u001b[38;5;241m=\u001b[39m\u001b[38;5;28;01mTrue\u001b[39;00m,\n\u001b[1;32m    128\u001b[0m )\n\u001b[1;32m    129\u001b[0m df_local_knowledge \u001b[38;5;241m=\u001b[39m df_local_knowledge\u001b[38;5;241m.\u001b[39mmerge(\n\u001b[1;32m    130\u001b[0m     df_users_past_beer_style[[\u001b[38;5;124m\"\u001b[39m\u001b[38;5;124muser_id\u001b[39m\u001b[38;5;124m\"\u001b[39m, \u001b[38;5;124m\"\u001b[39m\u001b[38;5;124mday\u001b[39m\u001b[38;5;124m\"\u001b[39m,\u001b[38;5;124m\"\u001b[39m\u001b[38;5;124mbeer_id\u001b[39m\u001b[38;5;124m\"\u001b[39m]],\n\u001b[1;32m    131\u001b[0m     how\u001b[38;5;241m=\u001b[39m\u001b[38;5;124m\"\u001b[39m\u001b[38;5;124minner\u001b[39m\u001b[38;5;124m\"\u001b[39m,\n\u001b[1;32m    132\u001b[0m     left_index\u001b[38;5;241m=\u001b[39m\u001b[38;5;28;01mTrue\u001b[39;00m,\n\u001b[1;32m    133\u001b[0m     right_index\u001b[38;5;241m=\u001b[39m\u001b[38;5;28;01mTrue\u001b[39;00m,\n\u001b[1;32m    134\u001b[0m )\n",
      "File \u001b[0;32m~/.pyenv/versions/3.12.0/lib/python3.12/site-packages/numpy/__init__.py:333\u001b[0m, in \u001b[0;36m__getattr__\u001b[0;34m(attr)\u001b[0m\n\u001b[1;32m    330\u001b[0m     \u001b[38;5;124m\"\u001b[39m\u001b[38;5;124mRemoved in NumPy 1.25.0\u001b[39m\u001b[38;5;124m\"\u001b[39m\n\u001b[1;32m    331\u001b[0m     \u001b[38;5;28;01mraise\u001b[39;00m \u001b[38;5;167;01mRuntimeError\u001b[39;00m(\u001b[38;5;124m\"\u001b[39m\u001b[38;5;124mTester was removed in NumPy 1.25.\u001b[39m\u001b[38;5;124m\"\u001b[39m)\n\u001b[0;32m--> 333\u001b[0m \u001b[38;5;28;01mraise\u001b[39;00m \u001b[38;5;167;01mAttributeError\u001b[39;00m(\u001b[38;5;124m\"\u001b[39m\u001b[38;5;124mmodule \u001b[39m\u001b[38;5;132;01m{!r}\u001b[39;00m\u001b[38;5;124m has no attribute \u001b[39m\u001b[38;5;124m\"\u001b[39m\n\u001b[1;32m    334\u001b[0m                      \u001b[38;5;124m\"\u001b[39m\u001b[38;5;132;01m{!r}\u001b[39;00m\u001b[38;5;124m\"\u001b[39m\u001b[38;5;241m.\u001b[39mformat(\u001b[38;5;18m__name__\u001b[39m, attr))\n",
      "\u001b[0;31mAttributeError\u001b[0m: module 'numpy' has no attribute 'pow'"
     ]
    }
   ],
   "source": [
    "ba_average_columns = [col for col in df_ba_user_beer_style_past_ratings.columns if \"average\" in col]\n",
    "ba_count_columns = [col for col in df_ba_user_beer_style_past_ratings.columns if \"count\" in col]\n",
    "ba_max_columns = [col for col in df_ba_current_beer_per_style.columns if \"max\" in col]\n",
    "\n",
    "df_ba_user_beer_style_past_ratings = add_global_knowledge(df_ba_current_beer_per_style, df_ba_user_beer_style_past_ratings, ba_count_columns)\n",
    "df_ba_user_beer_style_past_ratings, df_ba_local_knowledge = add_local_knowledge(df_ba_current_beer_per_style, df_ba_user_beer_style_past_ratings, ba_max_columns, ba_count_columns)\n",
    "\n",
    "df_ba_knowledge = df_ba_user_beer_style_past_ratings[[\"user_id\",\"day\",\"beer_id\",\"global_knowledge\",\"local_knowledge\",\"style_tried\"]]\n",
    "df_ba_knowledge.loc[:,\"knowledge\"] = (df_ba_knowledge[\"global_knowledge\"] + df_ba_knowledge[\"local_knowledge\"]) / 2\n",
    "\n",
    "df_ba_knowledge = df_ba_knowledge.drop(df_ba_knowledge[df_ba_knowledge[\"local_knowledge\"] == 0].index, axis=0)\n",
    "\n",
    "df_ba_prime_knowledge = df_ba_knowledge[[\"user_id\",\"global_knowledge\",\"local_knowledge\",\"knowledge\"]].groupby(\"user_id\").max().reset_index()"
   ]
  },
  {
   "cell_type": "code",
   "execution_count": null,
   "metadata": {},
   "outputs": [],
   "source": [
    "rb_average_columns = [col for col in df_rb_user_beer_style_past_ratings.columns if \"average\" in col]\n",
    "rb_count_columns = [col for col in df_rb_user_beer_style_past_ratings.columns if \"count\" in col]\n",
    "rb_max_columns = [col for col in df_rb_current_beer_per_style.columns if \"max\" in col]\n",
    "\n",
    "df_rb_user_beer_style_past_ratings = add_global_knowledge(df_rb_current_beer_per_style, df_rb_user_beer_style_past_ratings, rb_count_columns)\n",
    "df_rb_user_beer_style_past_ratings, df_rb_local_knowledge = add_local_knowledge(df_rb_current_beer_per_style, df_rb_user_beer_style_past_ratings, rb_max_columns, rb_count_columns)\n",
    "\n",
    "df_rb_knowledge = df_rb_user_beer_style_past_ratings[[\"user_id\",\"date_day\",\"beer_id\",\"global_knowledge\",\"local_knowledge\",\"style_tried\"]]\n",
    "df_rb_knowledge.loc[:,\"knowledge\"] = (df_rb_knowledge[\"global_knowledge\"] + df_rb_knowledge[\"local_knowledge\"]) / 2\n",
    "\n",
    "df_rb_knowledge = df_rb_knowledge.drop(df_rb_knowledge[df_rb_knowledge[\"local_knowledge\"] == 0].index, axis=0)\n",
    "\n",
    "df_rb_prime_knowledge = df_rb_knowledge[[\"user_id\",\"global_knowledge\",\"local_knowledge\",\"knowledge\"]].groupby(\"user_id\").max().reset_index()"
   ]
  },
  {
   "cell_type": "code",
   "execution_count": null,
   "metadata": {},
   "outputs": [],
   "source": [
    "fig, axs = plt.subplots(2, 3, figsize=(16, 12))\n",
    "axs = axs.ravel()\n",
    "\n",
    "axs[0].set_title('(Beer Advocate) Distribution of Knowledge')\n",
    "axs[0].set_xlabel('Knowledge')\n",
    "axs[0].set_xlim([0,1])\n",
    "\n",
    "axs[1].set_title('(Beer Advocate) Distribution of Global Knowledge')\n",
    "axs[1].set_xlabel('Global Knowledge')\n",
    "axs[1].set_xlim([0,1])\n",
    "\n",
    "axs[2].set_title('(Beer Advocate) Distribution of Local Knowledge')\n",
    "axs[2].set_xlabel('Local Knowledge')\n",
    "axs[2].set_xlim([0,1])\n",
    "\n",
    "axs[3].set_title('(Rate Beer) Distribution of Knowledge')\n",
    "axs[3].set_xlabel('Knowledge')\n",
    "axs[3].set_xlim([0,1])\n",
    "\n",
    "axs[4].set_title('(Rate Beer) Distribution of Global Knowledge')\n",
    "axs[4].set_xlabel('Global Knowledge')\n",
    "axs[4].set_xlim([0,1])\n",
    "\n",
    "axs[5].set_title('(Rate Beer) Distribution of Local Knowledge')\n",
    "axs[5].set_xlabel('Local Knowledge')\n",
    "axs[5].set_xlim([0,1])\n",
    "\n",
    "df_ba_prime_knowledge[\"knowledge\"].hist(bins=100, ax=axs[0])\n",
    "df_ba_prime_knowledge[\"global_knowledge\"].hist(bins=100, ax=axs[1])\n",
    "df_ba_prime_knowledge[\"local_knowledge\"].hist(bins=100, ax=axs[2])\n",
    "\n",
    "df_rb_prime_knowledge[\"knowledge\"].hist(bins=100, ax=axs[3], color='orange')\n",
    "df_rb_prime_knowledge[\"global_knowledge\"].hist(bins=100, ax=axs[4], color='orange')\n",
    "df_rb_prime_knowledge[\"local_knowledge\"].hist(bins=100, ax=axs[5], color='orange')\n",
    "\n",
    "plt.tight_layout()\n",
    "plt.show()"
   ]
  },
  {
   "cell_type": "code",
   "execution_count": null,
   "metadata": {},
   "outputs": [],
   "source": [
    "# Save memory\n",
    "del df_ba_prime_knowledge\n",
    "del df_rb_prime_knowledge"
   ]
  },
  {
   "cell_type": "code",
   "execution_count": null,
   "metadata": {},
   "outputs": [],
   "source": [
    "df_ba_highest_global_knowledge = df_ba_knowledge.loc[df_ba_knowledge[[\"user_id\",\"global_knowledge\"]].groupby(\"user_id\").idxmax().reset_index()[\"global_knowledge\"]]\n",
    "df_rb_highest_global_knowledge = df_rb_knowledge.loc[df_rb_knowledge[[\"user_id\",\"global_knowledge\"]].groupby(\"user_id\").idxmax().reset_index()[\"global_knowledge\"]]"
   ]
  },
  {
   "cell_type": "code",
   "execution_count": null,
   "metadata": {},
   "outputs": [],
   "source": [
    "plt.figure(figsize=(12, 6))\n",
    "plt.title('(BeerAdvocate) Distribution of Global Knowledge by style tried')\n",
    "plt.xlabel('Style tried')\n",
    "plt.ylabel('Global Knowledge')\n",
    "sns.violinplot(x=df_ba_highest_global_knowledge[\"style_tried\"],y=df_ba_highest_global_knowledge[\"global_knowledge\"],hue=df_ba_highest_global_knowledge[\"style_tried\"])\n",
    "plt.show()"
   ]
  },
  {
   "cell_type": "code",
   "execution_count": null,
   "metadata": {},
   "outputs": [],
   "source": [
    "plt.figure(figsize=(12, 6))\n",
    "plt.title('(RateBeer) Distribution of Global Knowledge by style tried')\n",
    "plt.xlabel('Style tried')\n",
    "plt.ylabel('Global Knowledge')\n",
    "sns.violinplot(x=df_rb_highest_global_knowledge[\"style_tried\"],y=df_rb_highest_global_knowledge[\"global_knowledge\"],hue=df_rb_highest_global_knowledge[\"style_tried\"])\n",
    "plt.show()"
   ]
  },
  {
   "cell_type": "code",
   "execution_count": null,
   "metadata": {},
   "outputs": [],
   "source": [
    "# Save memory\n",
    "del df_ba_highest_global_knowledge\n",
    "del df_rb_highest_global_knowledge"
   ]
  },
  {
   "cell_type": "markdown",
   "metadata": {},
   "source": [
    "### Local knowledge"
   ]
  },
  {
   "cell_type": "code",
   "execution_count": null,
   "metadata": {},
   "outputs": [],
   "source": [
    "df_ba_prime_local_knowledge = df_ba_local_knowledge.iloc[:,:-2].groupby(\"user_id\").max().reset_index()\n",
    "df_rb_prime_local_knowledge = df_rb_local_knowledge.iloc[:,:-2].groupby(\"user_id\").max().reset_index()"
   ]
  },
  {
   "cell_type": "code",
   "execution_count": null,
   "metadata": {},
   "outputs": [],
   "source": [
    "plt.figure(figsize=(12, 6))\n",
    "plt.title('(BeerAdvocate) Distribution of Local Knowledge')\n",
    "plt.xlabel('Local Knowledge')\n",
    "plt.ylabel('Density')\n",
    "sns.violinplot(df_ba_prime_local_knowledge.iloc[:,1:].fillna(0))\n",
    "plt.show()"
   ]
  },
  {
   "cell_type": "code",
   "execution_count": null,
   "metadata": {},
   "outputs": [],
   "source": [
    "plt.figure(figsize=(12, 6))\n",
    "plt.title('(RateBeer) Distribution of Local Knowledge')\n",
    "plt.xlabel('Local Knowledge')\n",
    "plt.ylabel('Density')\n",
    "sns.violinplot(df_ba_prime_local_knowledge.iloc[:,1:].fillna(0))\n",
    "plt.show()"
   ]
  },
  {
   "cell_type": "code",
   "execution_count": null,
   "metadata": {},
   "outputs": [],
   "source": [
    "# Save memory\n",
    "del df_ba_prime_local_knowledge\n",
    "del df_rb_prime_local_knowledge"
   ]
  },
  {
   "cell_type": "markdown",
   "metadata": {},
   "source": [
    "### Experts"
   ]
  },
  {
   "cell_type": "code",
   "execution_count": null,
   "metadata": {},
   "outputs": [],
   "source": [
    "df_ba_user_beer_style_past_ratings, df_ba_local_knowledge_quantile_expert = add_experts(df_ba_local_knowledge, df_ba_user_beer_style_past_ratings, 0.99)\n",
    "df_rb_user_beer_style_past_ratings, df_rb_local_knowledge_quantile_expert = add_experts(df_rb_local_knowledge, df_rb_user_beer_style_past_ratings, 0.99)"
   ]
  },
  {
   "cell_type": "code",
   "execution_count": null,
   "metadata": {},
   "outputs": [],
   "source": [
    "plt.figure(figsize=(12, 6))\n",
    "plt.title(\"(BeerAdvocate) Required Local Knowledge to be an expert in a Beer Style\")\n",
    "plt.xlabel(\"Beer Style\")\n",
    "plt.ylabel(\"Local Knowledge to be an expert\")\n",
    "sns.barplot(x=df_ba_local_knowledge_quantile_expert.index, y=df_ba_local_knowledge_quantile_expert.sort_values(), hue=df_ba_local_knowledge_quantile_expert.index)\n",
    "plt.xticks(rotation=45)\n",
    "plt.show()"
   ]
  },
  {
   "cell_type": "code",
   "execution_count": null,
   "metadata": {},
   "outputs": [],
   "source": [
    "plt.figure(figsize=(12, 6))\n",
    "plt.title(\"(RateBeer) Required Local Knowledge to be an expert in a Beer Style\")\n",
    "plt.xlabel(\"Beer Style\")\n",
    "plt.ylabel(\"Local Knowledge to be an expert\")\n",
    "sns.barplot(x=df_rb_local_knowledge_quantile_expert.index, y=df_rb_local_knowledge_quantile_expert.sort_values(), hue=df_rb_local_knowledge_quantile_expert.index)\n",
    "plt.xticks(rotation=45)\n",
    "plt.show()"
   ]
  },
  {
   "cell_type": "code",
   "execution_count": null,
   "metadata": {},
   "outputs": [],
   "source": [
    "ba_max_available_beer_per_day = df_ba_user_beer_style_past_ratings[ba_max_columns+[\"day\"]].groupby(\"day\").max().reset_index()\n",
    "ba_max_available_beer_per_day.columns = [\"day\"] + df_ba_local_knowledge_quantile_expert.index.to_list()\n",
    "ba_max_available_beer_per_day.iloc[:,1:] = ba_max_available_beer_per_day.iloc[:,1:] * np.pow(df_ba_local_knowledge_quantile_expert,3)\n",
    "df_ba_beer_required_to_be_expert_long = ba_max_available_beer_per_day.melt(id_vars='day', var_name='Beer Style', value_name='Beers to be expert')"
   ]
  },
  {
   "cell_type": "code",
   "execution_count": null,
   "metadata": {},
   "outputs": [],
   "source": [
    "rb_max_available_beer_per_day = df_rb_user_beer_style_past_ratings[rb_max_columns+[\"day\"]].groupby(\"day\").max().reset_index()\n",
    "rb_max_available_beer_per_day.columns = [\"day\"] + df_rb_local_knowledge_quantile_expert.index.to_list()\n",
    "rb_max_available_beer_per_day.iloc[:,1:] = rb_max_available_beer_per_day.iloc[:,1:] * np.pow(df_rb_local_knowledge_quantile_expert,3)\n",
    "df_rb_beer_required_to_be_expert_long = rb_max_available_beer_per_day.melt(id_vars='day', var_name='Beer Style', value_name='Beers to be expert')"
   ]
  },
  {
   "cell_type": "code",
   "execution_count": null,
   "metadata": {},
   "outputs": [],
   "source": [
    "plt.figure(figsize=(12, 6))\n",
    "plt.title(\"(BeerAdvocate) Required Beers to be an expert in a style\")\n",
    "plt.xlabel(\"Day\")\n",
    "plt.ylabel(\"Beers to be expert\")\n",
    "sns.lineplot(x=df_ba_beer_required_to_be_expert_long[\"day\"], y=df_ba_beer_required_to_be_expert_long[\"Beers to be expert\"], hue=df_ba_beer_required_to_be_expert_long[\"Beer Style\"])\n",
    "plt.show()"
   ]
  },
  {
   "cell_type": "code",
   "execution_count": null,
   "metadata": {},
   "outputs": [],
   "source": [
    "plt.figure(figsize=(12, 6))\n",
    "plt.title(\"(RateBeer) Required Beers to be an expert in a style\")\n",
    "plt.xlabel(\"Day\")\n",
    "plt.ylabel(\"Beers to be expert\")\n",
    "sns.lineplot(x=df_ba_beer_required_to_be_expert_long[\"day\"], y=df_ba_beer_required_to_be_expert_long[\"Beers to be expert\"], hue=df_ba_beer_required_to_be_expert_long[\"Beer Style\"])\n",
    "plt.show()"
   ]
  },
  {
   "cell_type": "code",
   "execution_count": null,
   "metadata": {},
   "outputs": [],
   "source": [
    "ba_expert_columns = [col for col in df_ba_user_beer_style_past_ratings.columns if \"expert\" in col]\n",
    "ba_n_unique_experts_per_style = df_ba_user_beer_style_past_ratings[ba_expert_columns+[\"user_id\"]].groupby(\"user_id\").max().reset_index().iloc[:,1:].sum()\n",
    "\n",
    "df_ba_user_beer_style_past_ratings.loc[:,\"isExpert\"] = df_ba_user_beer_style_past_ratings[ba_expert_columns].sum(axis=1)\n",
    "df_ba_expert_users = df_ba_user_beer_style_past_ratings.loc[df_ba_user_beer_style_past_ratings[\"isExpert\"] >= 1,[\"user_id\"] + ba_expert_columns].groupby(\"user_id\").max().reset_index().merge(df_ba_users[[\"user_id\",\"user_country\"]], how=\"left\", on=\"user_id\")\n",
    "\n",
    "df_ba_expert_users = df_ba_expert_users.merge(df_ba_users[[\"user_id\",\"user_country_code\"]], how=\"left\", on=\"user_id\")\n",
    "\n",
    "df_ba_count_exp = df_ba_expert_users[\"user_country_code\"].value_counts().reset_index()\n",
    "df_ba_count_exp[\"log_count\"] = np.log(df_ba_count_exp[\"count\"])"
   ]
  },
  {
   "cell_type": "code",
   "execution_count": null,
   "metadata": {},
   "outputs": [],
   "source": [
    "rb_expert_columns = [col for col in df_rb_user_beer_style_past_ratings.columns if \"expert\" in col]\n",
    "rb_n_unique_experts_per_style = df_rb_user_beer_style_past_ratings[rb_expert_columns+[\"user_id\"]].groupby(\"user_id\").max().reset_index().iloc[:,1:].sum()\n",
    "\n",
    "df_rb_user_beer_style_past_ratings.loc[:,\"isExpert\"] = df_rb_user_beer_style_past_ratings[rb_expert_columns].sum(axis=1)\n",
    "df_rb_expert_users = df_rb_user_beer_style_past_ratings.loc[df_rb_user_beer_style_past_ratings[\"isExpert\"] >= 1,[\"user_id\"] + rb_expert_columns].groupby(\"user_id\").max().reset_index().merge(df_rb_users[[\"user_id\",\"user_country\"]], how=\"left\", on=\"user_id\")\n",
    "\n",
    "df_rb_expert_users = df_rb_expert_users.merge(df_rb_users[[\"user_id\",\"user_country_code\"]], how=\"left\", on=\"user_id\")\n",
    "\n",
    "df_rb_count_exp = df_rb_expert_users[\"user_country_code\"].value_counts().reset_index()\n",
    "df_rb_count_exp[\"log_count\"] = np.log(df_rb_count_exp[\"count\"])"
   ]
  },
  {
   "cell_type": "code",
   "execution_count": null,
   "metadata": {},
   "outputs": [],
   "source": [
    "plt.figure(figsize=(12, 6))\n",
    "sns.barplot(df_ba_expert_users[\"user_country\"].value_counts())\n",
    "plt.xticks(rotation=90)\n",
    "plt.title(f\"(BeerAdvocate) Number of local expert in any beer style for each country : {df_ba_expert_users[\"user_country\"].value_counts().sum().item()} experts\")\n",
    "plt.xlabel(\"Country of origin\")\n",
    "plt.ylabel(\"Number of local experts\")\n",
    "plt.yscale(\"log\")\n",
    "plt.show()"
   ]
  },
  {
   "cell_type": "code",
   "execution_count": null,
   "metadata": {},
   "outputs": [],
   "source": [
    "plt.figure(figsize=(12, 6))\n",
    "sns.barplot(df_ba_expert_users[\"user_country\"].value_counts(), color='orange')\n",
    "plt.xticks(rotation=90)\n",
    "plt.title(f\"(RateBeer) Number of local expert in any beer style for each country : {df_ba_expert_users[\"user_country\"].value_counts().sum().item()} experts\")\n",
    "plt.xlabel(\"Country of origin\")\n",
    "plt.ylabel(\"Number of local experts\")\n",
    "plt.yscale(\"log\")\n",
    "plt.show()"
   ]
  },
  {
   "cell_type": "code",
   "execution_count": null,
   "metadata": {},
   "outputs": [],
   "source": [
    "fig = px.choropleth(\n",
    "    df_ba_count_exp,\n",
    "    locations=\"user_country_code\",\n",
    "    color=\"log_count\",\n",
    "    hover_name=\"user_country_code\",\n",
    "    hover_data=\"count\",\n",
    "    color_continuous_scale=px.colors.sequential.Viridis\n",
    ")\n",
    "fig.update_layout(margin=dict(l=0, r=0, t=0, b=0), geo=dict(showframe=False, showcoastlines=True, projection_type='mercator'))\n",
    "fig.show()"
   ]
  },
  {
   "cell_type": "code",
   "execution_count": null,
   "metadata": {},
   "outputs": [],
   "source": [
    "fig = px.choropleth(\n",
    "    df_rb_count_exp,\n",
    "    locations=\"user_country_code\",\n",
    "    color=\"log_count\",\n",
    "    hover_name=\"user_country_code\",\n",
    "    hover_data=\"count\",\n",
    "    color_continuous_scale=px.colors.sequential.Viridis\n",
    ")\n",
    "\n",
    "fig.update_layout(margin=dict(l=0, r=0, t=0, b=0), geo=dict(showframe=False, showcoastlines=True, projection_type='mercator'))\n",
    "fig.show()"
   ]
  },
  {
   "cell_type": "code",
   "execution_count": null,
   "metadata": {},
   "outputs": [],
   "source": [
    "fig, axes = plt.subplots(2,7,figsize=(30,20),sharey=True)\n",
    "\n",
    "for col_idx, col in enumerate(ba_expert_columns):\n",
    "    sns.barplot(df_ba_expert_users[df_ba_expert_users[col] == 1][\"user_country\"].value_counts(), ax=axes[col_idx//7,col_idx%7])\n",
    "    #axes[col_idx//7,col_idx%7].set_xticklabels(rotation=90)\n",
    "    axes[col_idx//7,col_idx%7].set_xticklabels(axes[col_idx//7,col_idx%7].get_xticklabels(), rotation=90)\n",
    "    axes[col_idx//7,col_idx%7].set_xlabel(\"\")\n",
    "    #plt.ylabel(f\"Number of local experts in {col.split(\"_\")[0]}\")\n",
    "    axes[col_idx//7,col_idx%7].set_title(f\"{col.split(\"_\")[0]} : {df_ba_expert_users[col].sum()} experts\")\n",
    "    axes[col_idx//7,col_idx%7].set_yscale(\"log\")\n",
    "\n",
    "plt.tight_layout()\n",
    "plt.show()"
   ]
  },
  {
   "cell_type": "code",
   "execution_count": null,
   "metadata": {},
   "outputs": [],
   "source": [
    "fig, axes = plt.subplots(2,7,figsize=(30,20),sharey=True)\n",
    "\n",
    "for col_idx, col in enumerate(rb_expert_columns):\n",
    "    sns.barplot(df_rb_expert_users[df_rb_expert_users[col] == 1][\"user_country\"].value_counts(), ax=axes[col_idx//7,col_idx%7], color='orange')\n",
    "    #axes[col_idx//7,col_idx%7].set_xticklabels(rotation=90)\n",
    "    axes[col_idx//7,col_idx%7].set_xticklabels(axes[col_idx//7,col_idx%7].get_xticklabels(), rotation=90)\n",
    "    axes[col_idx//7,col_idx%7].set_xlabel(\"\")\n",
    "    #plt.ylabel(f\"Number of local experts in {col.split(\"_\")[0]}\")\n",
    "    axes[col_idx//7,col_idx%7].set_title(f\"{col.split(\"_\")[0]} : {df_rb_expert_users[col].sum()} experts\")\n",
    "    axes[col_idx//7,col_idx%7].set_yscale(\"log\")\n",
    "\n",
    "plt.tight_layout()\n",
    "plt.show()"
   ]
  },
  {
   "cell_type": "code",
   "execution_count": null,
   "metadata": {},
   "outputs": [],
   "source": [
    "df_ba_user_beer_style_past_ratings['month']   = pd.to_datetime(df_ba_ratings['date'], unit=\"s\").dt.to_period(\"M\").dt.start_time\n",
    "df_ba_user_beer_style_past_ratings['quarter'] = pd.to_datetime(df_ba_ratings['date'], unit=\"s\").dt.to_period(\"Q\").dt.start_time\n",
    "\n",
    "df_rb_user_beer_style_past_ratings['month']   = pd.to_datetime(df_rb_ratings['date'], unit=\"s\").dt.to_period(\"M\").dt.start_time\n",
    "df_rb_user_beer_style_past_ratings['quarter'] = pd.to_datetime(df_rb_ratings['date'], unit=\"s\").dt.to_period(\"Q\").dt.start_time"
   ]
  },
  {
   "cell_type": "code",
   "execution_count": null,
   "metadata": {},
   "outputs": [],
   "source": [
    "df_ba_expert_per_day = df_ba_user_beer_style_past_ratings[ba_expert_columns+[\"month\", \"user_id\"]].groupby([\"user_id\", \"month\"]).max().reset_index().iloc[:,1:].groupby(\"month\").sum().reset_index()\n",
    "df_ba_expert_per_day_long = df_ba_expert_per_day.melt(id_vars='month', var_name='Beer Style', value_name='Number of expert ratings')\n",
    "\n",
    "df_rb_expert_per_day = df_rb_user_beer_style_past_ratings[rb_expert_columns+[\"month\", \"user_id\"]].groupby([\"user_id\", \"month\"]).max().reset_index().iloc[:,1:].groupby(\"month\").sum().reset_index()\n",
    "df_rb_expert_per_day_long = df_rb_expert_per_day.melt(id_vars='month', var_name='Beer Style', value_name='Number of expert ratings')"
   ]
  },
  {
   "cell_type": "code",
   "execution_count": null,
   "metadata": {},
   "outputs": [],
   "source": [
    "plt.figure(figsize=(12, 6))\n",
    "plt.title(\"(BeerAdvocate) Number of expert ratings per month\")\n",
    "plt.xlabel(\"Month\")\n",
    "plt.ylabel(\"Number of expert ratings\")\n",
    "sns.lineplot(data=df_ba_expert_per_day_long,x=\"date_month\",y='Number of expert ratings', hue=\"Beer Style\")\n",
    "plt.show()"
   ]
  },
  {
   "cell_type": "code",
   "execution_count": null,
   "metadata": {},
   "outputs": [],
   "source": [
    "plt.figure(figsize=(12, 6))\n",
    "plt.title(\"(RateBeer) Number of expert ratings per month\")\n",
    "plt.xlabel(\"Month\")\n",
    "plt.ylabel(\"Number of expert ratings\")\n",
    "sns.lineplot(data=df_ba_expert_per_day_long,x=\"date_month\",y='Number of expert ratings', hue=\"Beer Style\")\n",
    "plt.show()"
   ]
  },
  {
   "cell_type": "code",
   "execution_count": null,
   "metadata": {},
   "outputs": [],
   "source": [
    "df_ba_expert_ratings = df_ba_user_beer_style_past_ratings[ba_expert_columns+[\"date_day\",\"user_id\",\"beer_id\"]].groupby([\"user_id\",\"date_day\"]).max().reset_index().merge(df_ba_ratings[[\"user_id\",\"date_day\",\"beer_global_style\",\"rating\"]], how=\"inner\", on=[\"user_id\",\"date_day\"])\n",
    "df_ba_to_plots = []\n",
    "TOP_K_BEERS_THRESH = 100\n",
    "for style in ba_expert_columns:\n",
    "    beer_rated_by_experts = df_ba_expert_ratings[(df_ba_expert_ratings[style] == 1)][\"beer_id\"].unique()\n",
    "    top_k_beers = df_ba_ratings[(df_ba_ratings[\"beer_global_style\"] == style.split(\"_\")[0]) & (df_ba_ratings[\"beer_id\"].isin(beer_rated_by_experts))][[\"rating\",\"beer_id\"]].groupby(\"beer_id\").count().reset_index().sort_values(by=\"rating\",ascending=False).head(TOP_K_BEERS_THRESH)[\"beer_id\"].to_numpy()\n",
    "    df_same_beers = df_ba_expert_ratings[(df_ba_expert_ratings[\"beer_global_style\"] == style.split(\"_\")[0]) & (df_ba_expert_ratings[\"beer_id\"].isin(top_k_beers))]\n",
    "    df_ba_to_plots.append(df_same_beers[[\"beer_global_style\",\"rating\",style]].rename(columns={style:\"expert\"}))\n",
    "df_ba_to_barplot = pd.concat(df_ba_to_plots,axis=0)"
   ]
  },
  {
   "cell_type": "code",
   "execution_count": null,
   "metadata": {},
   "outputs": [],
   "source": [
    "df_rb_expert_ratings = df_rb_user_beer_style_past_ratings[rb_expert_columns+[\"date_day\",\"user_id\",\"beer_id\"]].groupby([\"user_id\",\"date_day\"]).max().reset_index().merge(df_rb_ratings[[\"user_id\",\"date_day\",\"beer_global_style\",\"rating\"]], how=\"inner\", on=[\"user_id\",\"date_day\"])\n",
    "df_rb_to_plots = []\n",
    "TOP_K_BEERS_THRESH = 100\n",
    "for style in rb_expert_columns:\n",
    "    beer_rated_by_experts = df_rb_expert_ratings[(df_rb_expert_ratings[style] == 1)][\"beer_id\"].unique()\n",
    "    top_k_beers = df_rb_ratings[(df_rb_ratings[\"beer_global_style\"] == style.split(\"_\")[0]) & (df_rb_ratings[\"beer_id\"].isin(beer_rated_by_experts))][[\"rating\",\"beer_id\"]].groupby(\"beer_id\").count().reset_index().sort_values(by=\"rating\",ascending=False).head(TOP_K_BEERS_THRESH)[\"beer_id\"].to_numpy()\n",
    "    df_same_beers = df_rb_expert_ratings[(df_rb_expert_ratings[\"beer_global_style\"] == style.split(\"_\")[0]) & (df_rb_expert_ratings[\"beer_id\"].isin(top_k_beers))]\n",
    "    df_rb_to_plots.append(df_same_beers[[\"beer_global_style\",\"rating\",style]].rename(columns={style:\"expert\"}))\n",
    "df_rb_to_barplot = pd.concat(df_rb_to_plots,axis=0)"
   ]
  },
  {
   "cell_type": "code",
   "execution_count": null,
   "metadata": {},
   "outputs": [],
   "source": [
    "plt.figure(figsize=(12, 6))\n",
    "plt.title(\"(BeerAdvocate) Average rating of expert and non-expert users\")\n",
    "plt.xlabel(\"Beer Style\")\n",
    "plt.ylabel(\"Rating\")\n",
    "sns.barplot(data=df_ba_to_barplot,x=\"beer_global_style\", y=\"rating\", hue=\"expert\")\n",
    "plt.xticks(rotation=45)\n",
    "plt.ylim([3,4.5])\n",
    "plt.tight_layout()\n",
    "plt.show()"
   ]
  },
  {
   "cell_type": "code",
   "execution_count": null,
   "metadata": {},
   "outputs": [],
   "source": [
    "plt.figure(figsize=(12, 6))\n",
    "plt.title(\"(RateBeer) Average rating of expert and non-expert users\")\n",
    "plt.xlabel(\"Beer Style\")\n",
    "plt.ylabel(\"Rating\")\n",
    "sns.barplot(data=df_rb_to_barplot,x=\"beer_global_style\", y=\"rating\", hue=\"expert\")\n",
    "plt.xticks(rotation=45)\n",
    "plt.ylim([3,4.5])\n",
    "plt.tight_layout()\n",
    "plt.show()"
   ]
  },
  {
   "cell_type": "code",
   "execution_count": null,
   "metadata": {},
   "outputs": [],
   "source": [
    "df_ba_expert_per_day = df_ba_user_beer_style_past_ratings[ba_expert_columns+[\"date_quarter\",\"user_id\"]].groupby([\"user_id\",\"date_quarter\"]).max().reset_index().iloc[:,1:].groupby(\"date_quarter\").sum().reset_index()\n",
    "df_ba_expert_per_day_long = df_ba_expert_per_day.melt(id_vars='date_quarter', var_name='Beer Style', value_name='Number of expert ratings')\n",
    "\n",
    "df_rb_expert_per_day = df_rb_user_beer_style_past_ratings[rb_expert_columns+[\"date_quarter\",\"user_id\"]].groupby([\"user_id\",\"date_quarter\"]).max().reset_index().iloc[:,1:].groupby(\"date_quarter\").sum().reset_index()\n",
    "df_rb_expert_per_day_long = df_rb_expert_per_day.melt(id_vars='date_quarter', var_name='Beer Style', value_name='Number of expert ratings')"
   ]
  },
  {
   "cell_type": "code",
   "execution_count": null,
   "metadata": {},
   "outputs": [],
   "source": [
    "plt.figure(figsize=(12, 6))\n",
    "plt.title(\"(BeerAdvocate) Number of expert ratings per quarter\")\n",
    "plt.xlabel(\"Quarter\")\n",
    "plt.ylabel(\"Number of expert ratings\")\n",
    "sns.lineplot(data=df_ba_expert_per_day_long,x=\"date_quarter\",y='Number of expert ratings', hue=\"Beer Style\")\n",
    "plt.show()"
   ]
  },
  {
   "cell_type": "code",
   "execution_count": null,
   "metadata": {},
   "outputs": [],
   "source": [
    "plt.figure(figsize=(12, 6))\n",
    "plt.title(\"(RateBeer) Number of expert ratings per quarter\")\n",
    "plt.xlabel(\"Quarter\")\n",
    "plt.ylabel(\"Number of expert ratings\")\n",
    "sns.lineplot(data=df_rb_expert_per_day_long,x=\"date_quarter\",y='Number of expert ratings', hue=\"Beer Style\")\n",
    "plt.show()"
   ]
  },
  {
   "cell_type": "markdown",
   "metadata": {},
   "source": [
    "# 5. NLP Ratings"
   ]
  },
  {
   "cell_type": "code",
   "execution_count": null,
   "metadata": {},
   "outputs": [],
   "source": [
    "df_regions = pd.read_csv('src/data/regions.csv')"
   ]
  },
  {
   "cell_type": "code",
   "execution_count": null,
   "metadata": {},
   "outputs": [],
   "source": [
    "df_ba_nlp = pd.read_csv('src/data/beer_advocate/nlp_predictions.csv', index_col=0)\n",
    "df_rb_nlp = pd.read_csv('src/data/rate_beer/nlp_predictions.csv', index_col=0)"
   ]
  },
  {
   "cell_type": "code",
   "execution_count": null,
   "metadata": {},
   "outputs": [],
   "source": [
    "df_ba_users   = df_ba_users.merge(df_regions, left_on='user_country_code', right_on='ISO3', how='left').drop(columns=['ISO3'])\n",
    "df_ba_users   = df_ba_users.rename(columns={'region': 'user_country_region'})\n",
    "df_ba_ratings = df_ba_ratings.merge(df_ba_nlp, left_index=True, right_index=True)\n",
    "df_ba_ratings = df_ba_ratings.merge(df_ba_users, on='user_id')\n",
    "\n",
    "df_rb_users   = df_rb_users.merge(df_regions, left_on='user_country_code', right_on='ISO3', how='left').drop(columns=['ISO3'])\n",
    "df_rb_users   = df_rb_users.rename(columns={'region': 'user_country_region'})\n",
    "df_rb_ratings = df_rb_ratings.merge(df_rb_nlp, left_index=True, right_index=True)\n",
    "df_rb_ratings = df_rb_ratings.merge(df_rb_users, on='user_id')"
   ]
  },
  {
   "cell_type": "code",
   "execution_count": null,
   "metadata": {},
   "outputs": [],
   "source": [
    "df_ba_ratings['rating_relative_error'] = (df_ba_ratings['rating_corrected'] - df_ba_ratings['nlp_weighted_rating']) / df_ba_ratings['nlp_weighted_rating']\n",
    "df_ba_ratings['rating_absolute_error'] =  df_ba_ratings['rating_corrected'] - df_ba_ratings['nlp_weighted_rating']\n",
    "\n",
    "df_rb_ratings['rating_relative_error'] = (df_rb_ratings['rating_corrected'] - df_rb_ratings['nlp_weighted_rating']) / df_rb_ratings['nlp_weighted_rating']\n",
    "df_rb_ratings['rating_absolute_error'] =  df_rb_ratings['rating_corrected'] - df_rb_ratings['nlp_weighted_rating']"
   ]
  },
  {
   "cell_type": "code",
   "execution_count": null,
   "metadata": {},
   "outputs": [],
   "source": [
    "fig, axs = plt.subplots(2, 2, figsize=(16, 5))\n",
    "axs = axs.ravel()\n",
    "\n",
    "axs[0].set_title('(BeerAdvocate) Rating distribution')\n",
    "axs[0].set_xlabel('Rating')\n",
    "axs[0].set_ylabel('Density')\n",
    "sns.kdeplot(df_ba_ratings['rating_corrected'], label='Rating', fill=True, color='blue', ax=axs[0])\n",
    "sns.kdeplot(df_ba_ratings['nlp_weighted_rating'], label='Inferred rating (NLP)', fill=True, color='orange', ax=axs[0])\n",
    "axs[0].legend()\n",
    "\n",
    "axs[1].set_title('(BeerAdvocate) Rating distribution')\n",
    "axs[1].set_xlabel('Rating')\n",
    "axs[1].set_ylabel('Density')\n",
    "sns.violinplot(df_ba_ratings.melt(id_vars=['user_id', 'beer_id'], value_vars=['rating', 'nlp_weighted_rating']), hue='variable', y='value', ax=axs[1])\n",
    "axs[1].legend()\n",
    "\n",
    "axs[2].set_title('(RateBeer) Rating distribution')\n",
    "axs[2].set_xlabel('Rating')\n",
    "axs[2].set_ylabel('Density')\n",
    "sns.kdeplot(df_rb_ratings['rating_corrected'], label='Rating', fill=True, color='blue', ax=axs[2])\n",
    "sns.kdeplot(df_rb_ratings['nlp_weighted_rating'], label='Inferred rating (NLP)', fill=True, color='orange', ax=axs[2])\n",
    "axs[2].legend()\n",
    "\n",
    "axs[3].set_title('(RateBeer) Rating distribution')\n",
    "axs[3].set_xlabel('Rating')\n",
    "axs[3].set_ylabel('Density')\n",
    "sns.violinplot(df_rb_ratings.melt(id_vars=['user_id', 'beer_id'], value_vars=['rating', 'nlp_weighted_rating']), hue='variable', y='value', ax=axs[3])\n",
    "axs[3].legend()\n",
    "\n",
    "plt.show()"
   ]
  },
  {
   "cell_type": "code",
   "execution_count": null,
   "metadata": {},
   "outputs": [],
   "source": [
    "fig, axs = plt.subplots(1, 2, figsize=(12, 6))\n",
    "axs = axs.ravel()\n",
    "\n",
    "axs[0].set_title('(BeerAdvocate) Rating distribution')\n",
    "axs[0].set_xlabel('Rating')\n",
    "axs[0].set_ylabel('Density')\n",
    "sns.violinplot(df_ba_ratings.rename(columns={\n",
    "    'rating': 'Numerical rating',\n",
    "    'nlp_weighted_rating': 'Inferred rating (NLP)'\n",
    "}).melt(id_vars=['user_id', 'beer_id'], value_vars=['Numerical rating', 'Inferred rating (NLP)']), hue='variable', y='value')\n",
    "axs[0].legend()\n",
    "\n",
    "axs[0].set_title('(RateBeer) Rating distribution')\n",
    "axs[0].set_xlabel('Rating')\n",
    "axs[0].set_ylabel('Density')\n",
    "sns.violinplot(df_rb_ratings.rename(columns={\n",
    "    'rating': 'Numerical rating',\n",
    "    'nlp_weighted_rating': 'Inferred rating (NLP)'\n",
    "}).melt(id_vars=['user_id', 'beer_id'], value_vars=['Numerical rating', 'Inferred rating (NLP)']), hue='variable', y='value')\n",
    "axs[0].legend()\n",
    "\n",
    "plt.tight_layout()\n",
    "plt.show()"
   ]
  },
  {
   "cell_type": "markdown",
   "metadata": {},
   "source": [
    "## User region"
   ]
  },
  {
   "cell_type": "code",
   "execution_count": null,
   "metadata": {},
   "outputs": [],
   "source": [
    "NLP_MIN_USERS_PER_REGION = 100\n",
    "\n",
    "df_ba_nlp_regions = df_ba_ratings.dropna(subset=['user_country_region', 'brewery_country_region'])\n",
    "df_rb_nlp_regions = df_rb_ratings.dropna(subset=['user_country_region', 'brewery_country_region'])\n",
    "\n",
    "ba_users_per_region = df_ba_nlp_regions['user_country_region'].value_counts()\n",
    "ba_users_per_region = ba_users_per_region[ba_users_per_region >= NLP_MIN_USERS_PER_REGION]\n",
    "df_ba_nlp_regions = df_ba_nlp_regions[df_ba_nlp_regions['user_country_region'].isin(ba_users_per_region.index)]\n",
    "\n",
    "rb_users_per_region = df_rb_nlp_regions['user_country_region'].value_counts()\n",
    "rb_users_per_region = rb_users_per_region[rb_users_per_region >= NLP_MIN_USERS_PER_REGION]\n",
    "df_rb_nlp_regions = df_rb_nlp_regions[df_rb_nlp_regions['user_country_region'].isin(rb_users_per_region.index)]"
   ]
  },
  {
   "cell_type": "code",
   "execution_count": null,
   "metadata": {},
   "outputs": [],
   "source": [
    "NLP_ERROR_COLUMN = 'rating_relative_error'\n",
    "anova_result = f_oneway(*[group[NLP_ERROR_COLUMN].values for _, group in df_ba_nlp_regions.groupby('user_country_region')])\n",
    "print(f\"BeerAdvocate ANOVA result: {anova_result}\")\n",
    "\n",
    "anova_result = f_oneway(*[group[NLP_ERROR_COLUMN].values for _, group in df_rb_nlp_regions.groupby('user_country_region')])\n",
    "print(f\"RateBeer ANOVA result: {anova_result}\")"
   ]
  },
  {
   "cell_type": "code",
   "execution_count": null,
   "metadata": {},
   "outputs": [],
   "source": [
    "def tukey_test(dataframe: pd.DataFrame, group_column: str, value_column: str, alpha: float = 0.05) -> pd.DataFrame:\n",
    "    tukey = pairwise_tukeyhsd(endog=dataframe[value_column], groups=dataframe[group_column], alpha=alpha)\n",
    "    raw_results = np.array(tukey.summary().data)\n",
    "\n",
    "    df_tukey = pd.DataFrame(raw_results[1:], columns=[str(c) for c in raw_results[0]])\n",
    "    df_tukey = df_tukey[df_tukey['reject'] == 'True']\n",
    "    df_tukey = df_tukey.drop(columns=['reject'])\n",
    "\n",
    "    df_tukey['weight'] = 1 - df_tukey['p-adj'].astype(float)\n",
    "    df_tukey['difference'] = df_tukey['meandiff'].astype(float)\n",
    "    df_tukey['absolute_difference'] = df_tukey['difference'].abs()\n",
    "    df_tukey = df_tukey.drop(columns=['p-adj', 'meandiff'])\n",
    "\n",
    "    return df_tukey"
   ]
  },
  {
   "cell_type": "code",
   "execution_count": null,
   "metadata": {},
   "outputs": [],
   "source": [
    "df_ba_nlp_tuckey = tukey_test(df_ba_nlp_regions, 'user_country_region', NLP_ERROR_COLUMN)\n",
    "df_rb_nlp_tuckey = tukey_test(df_ba_nlp_regions, 'user_country_region', NLP_ERROR_COLUMN)"
   ]
  },
  {
   "cell_type": "code",
   "execution_count": null,
   "metadata": {},
   "outputs": [],
   "source": [
    "def create_digraph(dataframe_tuckey: pd.DataFrame, dataframe_region: pd.DataFrame, threshold: float = 0.01) -> nx.DiGraph:\n",
    "    G = nx.DiGraph()\n",
    "\n",
    "    for _, row in dataframe_tuckey.iterrows():\n",
    "        if row['absolute_difference'] < threshold: continue\n",
    "\n",
    "        G.add_node(row['group1'], mean_error=dataframe_region[dataframe_region['user_country_region'] == row['group1']][NLP_ERROR_COLUMN].mean())\n",
    "        G.add_node(row['group2'], mean_error=dataframe_region[dataframe_region['user_country_region'] == row['group2']][NLP_ERROR_COLUMN].mean())\n",
    "\n",
    "        if row['difference'] < 0:\n",
    "            G.add_edge(row['group2'], row['group1'], weight=row['absolute_difference'], difference=row['absolute_difference'])\n",
    "        else:\n",
    "            G.add_edge(row['group1'], row['group2'], weight=row['absolute_difference'], difference=row['absolute_difference'])\n",
    "    \n",
    "    return G"
   ]
  },
  {
   "cell_type": "code",
   "execution_count": null,
   "metadata": {},
   "outputs": [],
   "source": [
    "G_ba = create_digraph(df_ba_nlp_tuckey, df_ba_nlp_regions)\n",
    "G_rb = create_digraph(df_rb_nlp_tuckey, df_rb_nlp_regions)"
   ]
  },
  {
   "cell_type": "code",
   "execution_count": null,
   "metadata": {},
   "outputs": [],
   "source": [
    "plt.figure(figsize=(20, 10))\n",
    "\n",
    "plt.title('(BeerAdvocate) TODO')\n",
    "pos = nx.shell_layout(G_ba)\n",
    "\n",
    "edges = G_ba.edges(data=True)\n",
    "edge_colors = [d['difference'] for (_, _, d) in edges]\n",
    "edge_widths = [2 for (_, _, d) in edges]\n",
    "\n",
    "nx.draw_networkx_nodes(G_ba, pos, node_size=500, node_color='lightblue')\n",
    "nx.draw_networkx_edges(G_ba, pos, edge_color=edge_colors, width=edge_widths, edge_cmap=plt.cm.coolwarm, arrowsize=25)\n",
    "nx.draw_networkx_labels(G_ba, pos, font_size=10, font_color='black', )\n",
    "nx.draw_networkx_edge_labels(G_ba, pos, edge_labels={(u, v): f\"{d['difference']*100:.1f}%\" for (u, v, d) in edges})\n",
    "\n",
    "plt.show()"
   ]
  },
  {
   "cell_type": "code",
   "execution_count": null,
   "metadata": {},
   "outputs": [],
   "source": [
    "plt.figure(figsize=(20, 10))\n",
    "\n",
    "plt.title('(RateBeer) TODO')\n",
    "pos = nx.shell_layout(G_rb)\n",
    "\n",
    "edges = G_rb.edges(data=True)\n",
    "edge_colors = [d['difference'] for (_, _, d) in edges]\n",
    "edge_widths = [2 for (_, _, d) in edges]\n",
    "\n",
    "nx.draw_networkx_nodes(G_rb, pos, node_size=500, node_color='lightblue')\n",
    "nx.draw_networkx_edges(G_rb, pos, edge_color=edge_colors, width=edge_widths, edge_cmap=plt.cm.coolwarm, arrowsize=25)\n",
    "nx.draw_networkx_labels(G_rb, pos, font_size=10, font_color='black', )\n",
    "nx.draw_networkx_edge_labels(G_rb, pos, edge_labels={(u, v): f\"{d['difference']*100:.1f}%\" for (u, v, d) in edges})\n",
    "\n",
    "plt.show()"
   ]
  },
  {
   "cell_type": "code",
   "execution_count": null,
   "metadata": {},
   "outputs": [],
   "source": [
    "print(f\"BeerAdvocate : nx.is_directed_acyclic_graph(G_ba)={nx.is_directed_acyclic_graph(G_ba)}\")\n",
    "print(f\"RateBeer :  nx.is_directed_acyclic_graph(G_rb)={nx.is_directed_acyclic_graph(G_rb)}\")"
   ]
  },
  {
   "cell_type": "markdown",
   "metadata": {},
   "source": [
    "# 6. Preferences "
   ]
  },
  {
   "cell_type": "code",
   "execution_count": null,
   "metadata": {},
   "outputs": [],
   "source": [
    "df_ba_ratings['dominant_style'] = df_ba_ratings.groupby('user_id')['beer_global_style'].transform(lambda x: x.mode()[0])\n",
    "df_rb_ratings['dominant_style'] = df_rb_ratings.groupby('user_id')['beer_global_style'].transform(lambda x: x.mode()[0])"
   ]
  },
  {
   "cell_type": "code",
   "execution_count": null,
   "metadata": {},
   "outputs": [],
   "source": [
    "def analyse_relationships(dataframe: pd.DataFrame) -> pd.DataFrame:\n",
    "    relationships = []\n",
    "    for group_style in dataframe['beer_global_style'].unique():\n",
    "        group = dataframe[dataframe['dominant_style'] == group_style]\n",
    "        group_users = group['user_id'].unique()\n",
    "        group_mean  = group['rating_corrected'].mean()\n",
    "\n",
    "        for target_style in dataframe['beer_global_style'].unique():\n",
    "            style_ratings = dataframe[\n",
    "                (dataframe['user_id'].isin(group_users)) &\n",
    "                (dataframe['beer_global_style'] == target_style)\n",
    "            ]['rating_corrected'] - group_mean\n",
    "            \n",
    "            if not style_ratings.empty:\n",
    "                relationships.append({\n",
    "                    'group_style': group_style,\n",
    "                    'target_style': target_style,\n",
    "                    'mean_rating': style_ratings.mean(),\n",
    "                    'std_rating': style_ratings.std(),\n",
    "                    'num_ratings': style_ratings.count()\n",
    "                })\n",
    "    return pd.DataFrame(relationships)"
   ]
  },
  {
   "cell_type": "code",
   "execution_count": null,
   "metadata": {},
   "outputs": [],
   "source": [
    "df_ba_relationships = analyse_relationships(df_ba_ratings)\n",
    "df_rb_relationships = analyse_relationships(df_rb_ratings)"
   ]
  },
  {
   "cell_type": "code",
   "execution_count": null,
   "metadata": {},
   "outputs": [],
   "source": [
    "def create_preference_digraph(dataframe: pd.DataFrame) -> nx.DiGraph:\n",
    "    G = nx.DiGraph()\n",
    "\n",
    "    for _, row in dataframe.iterrows():\n",
    "        if row['num_ratings'] > 200 and abs(row['mean_rating']) > 0.25:\n",
    "            G.add_edge(\n",
    "                row['group_style'], \n",
    "                row['target_style'], \n",
    "                weight=row['num_ratings'], \n",
    "                rating=row['mean_rating']\n",
    "            )\n",
    "        \n",
    "    return G"
   ]
  },
  {
   "cell_type": "code",
   "execution_count": null,
   "metadata": {},
   "outputs": [],
   "source": [
    "G_ba_preferences = create_preference_digraph(df_ba_relationships)\n",
    "G_rb_preferences = create_preference_digraph(df_rb_relationships)"
   ]
  },
  {
   "cell_type": "code",
   "execution_count": null,
   "metadata": {},
   "outputs": [],
   "source": [
    "pos = nx.circular_layout(G_ba_preferences)\n",
    "plt.figure(figsize=(20, 10))\n",
    "\n",
    "nx.draw_networkx_nodes(G_ba_preferences, pos, node_size=700, node_color='lightblue')\n",
    "\n",
    "edges = G_ba_preferences.edges(data=True)\n",
    "edge_colors = [d['rating'] for (_, _, d) in edges]\n",
    "edge_widths = [np.log(d['weight']) for (_, _, d) in edges]  # Scale thickness\n",
    "\n",
    "nx.draw_networkx_edges(G_ba_preferences, pos, edge_color=edge_colors, width=edge_widths, edge_cmap=plt.cm.RdYlGn, arrowsize=35)\n",
    "nx.draw_networkx_labels(G_ba_preferences, pos, font_size=10, font_color='black')\n",
    "nx.draw_networkx_edge_labels(G_ba_preferences, pos, edge_labels={(u, v): f\"{d['rating']:.2f}\" for (u, v, d) in edges})\n",
    "\n",
    "plt.show()"
   ]
  },
  {
   "cell_type": "code",
   "execution_count": null,
   "metadata": {},
   "outputs": [],
   "source": [
    "pos = nx.circular_layout(G_rb_preferences)\n",
    "plt.figure(figsize=(20, 10))\n",
    "\n",
    "nx.draw_networkx_nodes(G_rb_preferences, pos, node_size=700, node_color='lightblue')\n",
    "\n",
    "edges = G_rb_preferences.edges(data=True)\n",
    "edge_colors = [d['rating'] for (_, _, d) in edges]\n",
    "edge_widths = [np.log(d['weight']) for (_, _, d) in edges]  # Scale thickness\n",
    "\n",
    "nx.draw_networkx_edges(G_rb_preferences, pos, edge_color=edge_colors, width=edge_widths, edge_cmap=plt.cm.RdYlGn, arrowsize=35)\n",
    "nx.draw_networkx_labels(G_rb_preferences, pos, font_size=10, font_color='black')\n",
    "nx.draw_networkx_edge_labels(G_rb_preferences, pos, edge_labels={(u, v): f\"{d['rating']:.2f}\" for (u, v, d) in edges})\n",
    "\n",
    "plt.show()"
   ]
  }
 ],
 "metadata": {
  "kernelspec": {
   "display_name": "Python 3",
   "language": "python",
   "name": "python3"
  },
  "language_info": {
   "codemirror_mode": {
    "name": "ipython",
    "version": 3
   },
   "file_extension": ".py",
   "mimetype": "text/x-python",
   "name": "python",
   "nbconvert_exporter": "python",
   "pygments_lexer": "ipython3",
   "version": "3.12.0"
  }
 },
 "nbformat": 4,
 "nbformat_minor": 2
}
