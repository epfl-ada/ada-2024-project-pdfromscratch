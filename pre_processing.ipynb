{
 "cells": [
  {
   "cell_type": "markdown",
   "metadata": {},
   "source": [
    "# Pre-processing\n",
    "\n",
    "This notebook contains pre-processing steps to create cleaned data in the `/data` folder from the raw datasets."
   ]
  },
  {
   "cell_type": "code",
   "execution_count": null,
   "metadata": {},
   "outputs": [],
   "source": [
    "import pandas as pd\n",
    "import os\n",
    "import subprocess\n",
    "\n",
    "from utils.location_extracter import extract_location"
   ]
  },
  {
   "cell_type": "code",
   "execution_count": null,
   "metadata": {},
   "outputs": [],
   "source": [
    "os.makedirs('data',                   exist_ok=True)\n",
    "os.makedirs('data/beer_advocate',     exist_ok=True)\n",
    "os.makedirs('data/matched_beer_data', exist_ok=True)\n",
    "os.makedirs('data/rate_beer',         exist_ok=True)"
   ]
  },
  {
   "cell_type": "markdown",
   "metadata": {},
   "source": [
    "# Downloading data\n",
    "\n",
    "The dataset is stored on a remote Google Drive folder. The following cell with execute a python script that will download the files and store then in a folder `raw_data` at the root of the repository."
   ]
  },
  {
   "cell_type": "code",
   "execution_count": 15,
   "metadata": {},
   "outputs": [],
   "source": [
    "%run src/scripts/download.py {os.path.join(os.getcwd(), 'raw_data')}"
   ]
  },
  {
   "cell_type": "markdown",
   "metadata": {},
   "source": [
    "# Beer Advocate"
   ]
  },
  {
   "cell_type": "markdown",
   "metadata": {},
   "source": [
    "## Beers"
   ]
  },
  {
   "cell_type": "code",
   "execution_count": null,
   "metadata": {},
   "outputs": [],
   "source": [
    "def preprocess_ba_beers(df_beers: pd.DataFrame, df_beers_styles: pd.DataFrame) -> pd.DataFrame:\n",
    "    df_beers.rename(columns={\n",
    "        'style': 'beer_style',\n",
    "        'nbr_ratings': 'ratings_count',\n",
    "        'nbr_reviews': 'reviews_count',\n",
    "        'avg': 'ratings_average',\n",
    "        'ba_score': 'ratings_ba_score',\n",
    "        'bros_score': 'ratings_bros_score',\n",
    "        'abv': 'beer_alcohol_by_volume',\n",
    "        'avg_computed': 'ratings_average_computed',\n",
    "        'nbr_matched_valid_ratings': 'matching_ratings_count',\n",
    "        'avg_matched_valid_ratings': 'matching_ratings_average',\n",
    "    }, inplace=True)\n",
    "\n",
    "    df_beers.drop(columns=['brewery_name'], inplace=True, errors='ignore')\n",
    "\n",
    "    df_beers = df_beers[['beer_id', 'brewery_id', 'beer_name', 'beer_style', 'ratings_count', 'reviews_count', 'ratings_average', 'ratings_ba_score', 'ratings_bros_score', 'beer_alcohol_by_volume', 'ratings_average_computed', 'zscore', 'matching_ratings_count', 'matching_ratings_average']]\n",
    "\n",
    "    df_beers = df_beers.merge(df_beers_styles, on='beer_style', how='left')\n",
    "\n",
    "    return df_beers"
   ]
  },
  {
   "cell_type": "code",
   "execution_count": null,
   "metadata": {},
   "outputs": [],
   "source": [
    "df_ba_beers        = pd.read_csv('raw_data/beer_advocate/beers.csv')\n",
    "df_ba_beers_styles = pd.read_csv('src/utils/beers_styles.csv')\n",
    "\n",
    "df_ba_beers = preprocess_ba_beers(df_ba_beers, df_ba_beers_styles)\n",
    "df_ba_beers.to_csv('data/beer_advocate/beers.csv', index=False)"
   ]
  },
  {
   "cell_type": "markdown",
   "metadata": {},
   "source": [
    "## Breweries"
   ]
  },
  {
   "cell_type": "code",
   "execution_count": null,
   "metadata": {},
   "outputs": [],
   "source": [
    "def preprocess_ba_breweries(df_breweries: pd.DataFrame) -> pd.DataFrame:\n",
    "    df_breweries.rename(columns={\n",
    "        'id': 'brewery_id',\n",
    "        'location': 'brewery_location',\n",
    "        'name': 'brewery_name',\n",
    "        'nbr_beers': 'brewery_beers_count'\n",
    "    }, inplace=True)\n",
    "\n",
    "    # Location of two breweries were missing, we found their location using Google\n",
    "    df_breweries.loc[df_breweries['brewery_id'] == 18989, 'brewery_location'] = 'United States'\n",
    "    df_breweries.loc[df_breweries['brewery_id'] == 11016, 'brewery_location'] = 'Austria'\n",
    "\n",
    "    df_breweries['brewery_country'], df_breweries['brewery_region'], df_breweries['brewery_country_code'] = extract_location(df_breweries['brewery_location'])\n",
    "    df_breweries.drop(columns=['brewery_location'], inplace=True)\n",
    "    \n",
    "    return df_breweries    "
   ]
  },
  {
   "cell_type": "code",
   "execution_count": null,
   "metadata": {},
   "outputs": [],
   "source": [
    "df_ba_breweries = pd.read_csv('raw_data/beer_advocate/breweries.csv')\n",
    "df_ba_breweries = preprocess_ba_breweries(df_ba_breweries)\n",
    "df_ba_breweries.to_csv('data/beer_advocate/breweries.csv', index=False)"
   ]
  },
  {
   "cell_type": "markdown",
   "metadata": {},
   "source": [
    "## Users"
   ]
  },
  {
   "cell_type": "code",
   "execution_count": null,
   "metadata": {},
   "outputs": [],
   "source": [
    "def preprocess_ba_users(df_users: pd.DataFrame) -> pd.DataFrame:\n",
    "    df_users.rename(columns={\n",
    "        'joined': 'user_created_date',\n",
    "        'location': 'user_location',\n",
    "        'nbr_ratings': 'user_ratings_count',\n",
    "        'nbr_reviews': 'user_reviews_count',\n",
    "    }, inplace=True)\n",
    "\n",
    "    df_users['user_country'], df_users['user_region'], df_users['user_country_code'] = extract_location(df_users['user_location'])\n",
    "    df_users.drop(columns=['user_location'], inplace=True)\n",
    "\n",
    "    return df_users"
   ]
  },
  {
   "cell_type": "code",
   "execution_count": null,
   "metadata": {},
   "outputs": [],
   "source": [
    "df_ba_users = pd.read_csv('raw_data/beer_advocate/users.csv')\n",
    "df_ba_users = preprocess_ba_users(df_ba_users)\n",
    "df_ba_users.to_csv('data/beer_advocate/users.csv', index=False)"
   ]
  },
  {
   "cell_type": "markdown",
   "metadata": {},
   "source": [
    "## Ratings & Reviews\n",
    "\n",
    "On BeerAdvocate, users can either submit a *rating* or a *review*. The dataset contains two separate text files `ratings.txt` and `reviews.txt`. Ratings and reviews are formatted as (key, value) pairs on each line of a plain text file with empty lines to split different ratings/reviews. \n",
    "\n",
    "The program `txt_to_csv.cpp` is a C++ program that transform a plain text file in a `.csv` file, that can be more easily analyzed using Python and Pandas. The following cell will compile the program using a C++ compiler and run it on the `ratings.txt` file only. Indeed, after analyzing the overlapping between the two files, we found that `reviews.txt` is a subset of `ratings.txt`. Thus, we will discard `reviews.txt` and only keep `ratings.txt`."
   ]
  },
  {
   "cell_type": "code",
   "execution_count": null,
   "metadata": {},
   "outputs": [],
   "source": [
    "subprocess.run('g++ -std=c++17 -o src/scripts/txt_to_csv src/scripts/txt_to_csv.cpp', shell=True)\n",
    "\n",
    "subprocess.run([\n",
    "    'src/scripts/txt_to_csv', \n",
    "    'raw_data/beer_advocate/ratings.txt', \n",
    "    'raw_data/beer_advocate/ratings.csv'\n",
    "])"
   ]
  },
  {
   "cell_type": "code",
   "execution_count": null,
   "metadata": {},
   "outputs": [],
   "source": [
    "def preprocess_ba_ratings(df_ratings: pd.DataFrame) -> pd.DataFrame:\n",
    "    df_ratings.drop(columns=['user_name', 'brewery_name', 'beer_name', 'style', 'abv'], inplace=True, errors='ignore')\n",
    "    df_ratings = df_ratings[['user_id', 'beer_id', 'brewery_id', 'date', 'review', 'rating', 'overall', 'aroma', 'appearance', 'palate', 'taste', 'text']]    \n",
    "\n",
    "    return df_ratings"
   ]
  },
  {
   "cell_type": "code",
   "execution_count": null,
   "metadata": {},
   "outputs": [],
   "source": [
    "df_ba_ratings = pd.read_csv('raw_data/beer_advocate/ratings.csv')\n",
    "df_ba_ratings = preprocess_ba_ratings(df_ba_ratings)"
   ]
  },
  {
   "cell_type": "markdown",
   "metadata": {},
   "source": [
    "For several analyses, we will be looking for the average scores given by the user on all the beers and on different styles of beer at the time of rating. We will also require the current rating of the beer evaluated at the time of rating. The function `get_past_ratings_count_and_average` computes the count and average of ratings according to provided parameters :\n",
    "\n",
    "|Parameter|Description|\n",
    "|---|---|\n",
    "|`sorting_columns` | Columns to sort to ensure the cumulative count and mean are done in the right order |\n",
    "|`grouping_columns` | Columns forming the group within which we want to compute the count and mean |\n",
    "|`name` | Prefix of the resulting columns |\n",
    "|`shift` | If `True`, the count and mean will **not** include the current rating in the computation |"
   ]
  },
  {
   "cell_type": "code",
   "execution_count": 47,
   "metadata": {},
   "outputs": [],
   "source": [
    "def get_past_ratings_count_and_average(df_ratings: pd.DataFrame, sorting_columns: list[str], grouping_columns: list[str], name: str, shift: bool) -> pd.DataFrame:\n",
    "    df_ratings = df_ratings.sort_values(sorting_columns, kind='stable')\n",
    "\n",
    "    if shift:\n",
    "        df_ratings[f'{name}_past_ratings_count']   = df_ratings.groupby(grouping_columns).cumcount()\n",
    "        df_ratings[f'{name}_past_ratings_average'] = df_ratings.groupby(grouping_columns)['rating'].expanding().mean().shift().reset_index(level=[i for i in range(len(grouping_columns))], drop=True)\n",
    "    else:\n",
    "        df_ratings[f'{name}_past_ratings_count']   = df_ratings.groupby(grouping_columns).cumcount() + 1\n",
    "        df_ratings[f'{name}_past_ratings_average'] = df_ratings.groupby(grouping_columns)['rating'].expanding().mean().reset_index(level=[i for i in range(len(grouping_columns))], drop=True)\n",
    "\n",
    "    df_ratings.loc[df_ratings[f'{name}_past_ratings_count'] == 0, f'{name}_past_ratings_average'] = pd.NA\n",
    "\n",
    "    df_ratings = df_ratings.sort_index()\n",
    "    return df_ratings"
   ]
  },
  {
   "cell_type": "markdown",
   "metadata": {},
   "source": [
    "### Past ratings of each user\n",
    "\n",
    "The next cell computes the number and the average of past ratings of the user that posted a given rating at the time of this rating.\n",
    "$$\n",
    "\\begin{align*}\n",
    "& \\forall i \\in \\{0, 1, \\dots, N\\} \\\\ \n",
    "\\mathcal S_i &= \\{\\verb|ratings[n]| | (\\verb|ratings[i][user] == ratings[n][user]|) \\land (\\verb|ratings[i][date] > ratings[n][date]|) \\} \\\\\n",
    "\\verb|count[i]| &= |\\mathcal S_i| \\\\\n",
    "\\verb|average[i]| &= \\frac{1}{|\\mathcal S_i|} \\sum_{\\verb|rating| \\in \\mathcal S_i} \\verb|rating[rating]|\n",
    "\\end{align*}\n",
    "$$\n",
    "\n"
   ]
  },
  {
   "cell_type": "code",
   "execution_count": 48,
   "metadata": {},
   "outputs": [],
   "source": [
    "df_ba_ratings = get_past_ratings_count_and_average(df_ba_ratings, ['user_id', 'date'], ['user_id'], 'user', shift=True)"
   ]
  },
  {
   "cell_type": "markdown",
   "metadata": {},
   "source": [
    "### Past ratings of each beer\n",
    "\n",
    "The next cell computes the number and the average of past ratings of the beer that is rated in a given rating at the time of this rating.\n",
    "$$\n",
    "\\begin{align*}\n",
    "& \\forall i \\in \\{0, 1, \\dots, N\\} \\\\ \n",
    "\\mathcal S_i &= \\{\\verb|ratings[n]| | (\\verb|ratings[i][beer] == ratings[n][beer]]|) \\land (\\verb|ratings[i][date] > ratings[n][date]|) \\} \\\\\n",
    "\\verb|count[i]| &= |\\mathcal S_i| \\\\\n",
    "\\verb|average[i]| &= \\frac{1}{|\\mathcal S_i|} \\sum_{\\verb|rating| \\in \\mathcal S_i} \\verb|rating[rating]|\n",
    "\\end{align*}\n",
    "$$\n",
    "\n"
   ]
  },
  {
   "cell_type": "code",
   "execution_count": 49,
   "metadata": {},
   "outputs": [],
   "source": [
    "df_ba_ratings = get_past_ratings_count_and_average(df_ba_ratings, ['beer_id', 'date'], ['beer_id'], 'beer', shift=True)"
   ]
  },
  {
   "cell_type": "markdown",
   "metadata": {},
   "source": [
    "### Past ratings of each user for a specific beer style\n",
    "\n",
    "The next cell computes the number and the average of past ratings of the user that posted a given rating at the time of this rating and only for beers of the same style as the one of the current rating.\n",
    "$$\n",
    "\\begin{align*}\n",
    "& \\forall i \\in \\{0, 1, \\dots, N\\} \\\\ \n",
    "\\mathcal S_i &= \\{\\verb|ratings[n]| |\n",
    "    \\\\ & \\quad\\quad (\\verb|ratings[i][user] == ratings[n][user]|)\n",
    "    \\\\ & \\quad\\quad \\land  (\\verb|ratings[i][date] > ratings[n][date]|)\n",
    "    \\\\ & \\quad\\quad \\land (\\verb|ratings[i][beer_style] == ratings[n][beer_style]|) \n",
    "\\\\ & \\} \\\\\n",
    "\\verb|count[i]| &= |\\mathcal S_i| \\\\\n",
    "\\verb|average[i]| &= \\frac{1}{|\\mathcal S_i|} \\sum_{\\verb|rating| \\in \\mathcal S_i} \\verb|rating[rating]|\n",
    "\\end{align*}\n",
    "$$"
   ]
  },
  {
   "cell_type": "code",
   "execution_count": 83,
   "metadata": {},
   "outputs": [],
   "source": [
    "# Add global beer style to ratings\n",
    "df_ba_ratings = df_ba_ratings.merge(df_ba_beers[['beer_id', 'beer_global_style']], on='beer_id', how='left')\n",
    "df_ba_ratings = get_past_ratings_count_and_average(df_ba_ratings, ['user_id', 'beer_global_style', 'date'], ['user_id', 'beer_global_style'], 'user_beer_style', shift=False)"
   ]
  },
  {
   "cell_type": "markdown",
   "metadata": {},
   "source": [
    "### Past ratings of each user for all beer styles\n",
    "\n",
    "The next cell computes the number and the average of past ratings of the user that posted a given rating at the time of this rating, for all styles of beer.\n",
    "\n",
    "Let $\\mathcal B$ be the set of beer styles.\n",
    "\n",
    "$$\n",
    "\\begin{align*}\n",
    "& \\forall i \\in \\{0, 1, \\dots, N\\}, \\forall j \\in \\mathcal B\\\\ \n",
    "\\mathcal S_{i, j} &= \\{\\verb|ratings[n]| |\n",
    "    \\\\ & \\quad\\quad (\\verb|ratings[i][user] == ratings[n][user]|)\n",
    "    \\\\ & \\quad\\quad \\land  (\\verb|ratings[i][date] > ratings[n][date]|)\n",
    "    \\\\ & \\quad\\quad \\land (\\verb|ratings[n][beer_style] == j|) \n",
    "\\\\ & \\} \\\\\n",
    "\\verb|count[i][j]| &= |\\mathcal S_{i, j}| \\\\\n",
    "\\verb|average[i][j]| &= \\frac{1}{|\\mathcal S_{i, j}|} \\sum_{\\verb|rating| \\in \\mathcal S_{i, j}} \\verb|rating[rating]|\n",
    "\\end{align*}\n",
    "$$\n",
    "\n",
    "Thus this function will create $2 \\times |\\mathcal B|$ new columns with the counts and averages for each style of beer."
   ]
  },
  {
   "cell_type": "code",
   "execution_count": 86,
   "metadata": {},
   "outputs": [],
   "source": [
    "def get_past_ratings_counts_all_style(df_ratings: pd.DataFrame, dummy_column: str, multiplying_columns_prefix: str) -> pd.DataFrame:\n",
    "    # Create one-hot encoded binary matrix for the beer styles\n",
    "    beer_styles_one_hot_encoding = pd.get_dummies(df_ratings[dummy_column], dtype=int, prefix='user_past_ratings').replace(0, pd.NA)\n",
    "\n",
    "    # Multiply the binary matrix with the past ratings count and average corresponding to the current rating style\n",
    "    df_user_beer_style_past_ratings = pd.merge(\n",
    "        beer_styles_one_hot_encoding.mul(df_ratings[f'{multiplying_columns_prefix}_past_ratings_count'],   axis=0),\n",
    "        beer_styles_one_hot_encoding.mul(df_ratings[f'{multiplying_columns_prefix}_past_ratings_average'], axis=0),\n",
    "        left_index=True, \n",
    "        right_index=True, \n",
    "        suffixes=('_count', '_average')\n",
    "    )\n",
    "\n",
    "    modified_columns = [column for column in df_user_beer_style_past_ratings.columns if ('_count' in column or '_average' in column)]\n",
    "\n",
    "    # Merge to get the user id and date in order to forward fill the values within groups of user_id\n",
    "    df_user_beer_style_past_ratings = df_user_beer_style_past_ratings.merge(\n",
    "        df_ratings[['user_id', 'date', 'beer_id']], \n",
    "        left_index=True, \n",
    "        right_index=True, \n",
    "        how='left'\n",
    "    )\n",
    "\n",
    "    # Ensure duplicate are well sorted by the next sorting\n",
    "    df_user_beer_style_past_ratings.sort_index(inplace=True)\n",
    "\n",
    "    # Fill forward the values within groups of user_id\n",
    "    df_user_beer_style_past_ratings[modified_columns] = df_user_beer_style_past_ratings\\\n",
    "        .sort_values(['user_id', 'date'], kind='stable')\\\n",
    "        .groupby('user_id')\\\n",
    "        .ffill()[modified_columns]\n",
    "\n",
    "    # Shift the value forward to have the counts and average without taking into\n",
    "    # account the current rating (since counts and average are computed taking \n",
    "    # into account current rating)\n",
    "    df_user_beer_style_past_ratings[modified_columns] = df_user_beer_style_past_ratings\\\n",
    "        .sort_values(['user_id', 'date'], kind='stable')\\\n",
    "        .groupby('user_id')\\\n",
    "        .shift(1)[modified_columns]\n",
    "    \n",
    "    # Fill remaining cells with 0 as they are cells of ratings occuring before\n",
    "    # the first rating in a given beer style\n",
    "    df_user_beer_style_past_ratings[modified_columns] = df_user_beer_style_past_ratings[modified_columns].fillna(0.0)\n",
    "    \n",
    "    return df_user_beer_style_past_ratings"
   ]
  },
  {
   "cell_type": "code",
   "execution_count": null,
   "metadata": {},
   "outputs": [],
   "source": [
    "df_user_beer_style_past_ratings = get_past_ratings_counts_all_style(df_ba_ratings, 'beer_global_style', 'user_beer_style')\n",
    "df_user_beer_style_past_ratings.to_csv('data/beer_advocate/user_beer_style_past_ratings.csv', index=False)"
   ]
  },
  {
   "cell_type": "markdown",
   "metadata": {},
   "source": [
    "### User rating habits of different beer styles\n",
    "\n",
    "The next cell computes the Gini Index of each user with respect to the number of beers of each style they rated. The Gini Index is in $[0, 1]$ where a higher score indicates a higher heterogeneity within the styles of beer rated. A score of $1$ means that the user only rates one style of beer."
   ]
  },
  {
   "cell_type": "code",
   "execution_count": 102,
   "metadata": {},
   "outputs": [],
   "source": [
    "def compute_gini_index(df_ratings: pd.DataFrame, df_user_beer_style_past_ratings: pd.DataFrame) -> pd.DataFrame:\n",
    "    count_columns = [column for column in df_user_beer_style_past_ratings.columns if column.endswith('_count')]\n",
    "\n",
    "    total_ratings = df_user_beer_style_past_ratings[count_columns].sum(axis=1)\n",
    "    proportions   = df_user_beer_style_past_ratings[count_columns].div(total_ratings, axis=0).fillna(0)\n",
    "\n",
    "    df_ratings['gini_index'] = 1 - (proportions ** 2).sum(axis=1)\n",
    "    return df_ratings"
   ]
  },
  {
   "cell_type": "code",
   "execution_count": 103,
   "metadata": {},
   "outputs": [],
   "source": [
    "df_ba_ratings = compute_gini_index(df_ba_ratings, df_user_beer_style_past_ratings)"
   ]
  },
  {
   "cell_type": "code",
   "execution_count": 124,
   "metadata": {},
   "outputs": [],
   "source": [
    "df_ba_ratings.sort_index(inplace=True)\n",
    "df_ba_ratings.to_csv('data/beer_advocate/ratings.csv', index=False)"
   ]
  },
  {
   "cell_type": "markdown",
   "metadata": {},
   "source": [
    "## Memory cleaning"
   ]
  },
  {
   "cell_type": "code",
   "execution_count": 125,
   "metadata": {},
   "outputs": [],
   "source": [
    "del df_ba_beers\n",
    "del df_ba_breweries\n",
    "del df_ba_users\n",
    "del df_ba_ratings"
   ]
  },
  {
   "cell_type": "markdown",
   "metadata": {},
   "source": [
    "# RateBeer"
   ]
  },
  {
   "cell_type": "markdown",
   "metadata": {},
   "source": [
    "## Beers"
   ]
  },
  {
   "cell_type": "code",
   "execution_count": 126,
   "metadata": {},
   "outputs": [],
   "source": [
    "def preprocess_rb_beers(df_beers: pd.DataFrame) -> pd.DataFrame:\n",
    "    df_beers = df_beers.drop(columns=['brewery_name'])\n",
    "\n",
    "    df_beers = df_beers.rename(columns={\n",
    "        'style': 'beer_style',\n",
    "        'nbr_ratings': 'ratings_count',\n",
    "        'avg': 'ratings_average',\n",
    "        'overall_score': 'ratings_overall_score',\n",
    "        'abv': 'beer_alcohol_by_volume',\n",
    "        'avg_computed': 'ratings_average_computed',\n",
    "        'nbr_matched_valid_ratings': 'matching_ratings_count',\n",
    "        'avg_matched_valid_ratings': 'matching_ratings_average',\n",
    "    })\n",
    "\n",
    "    return df_beers"
   ]
  },
  {
   "cell_type": "code",
   "execution_count": 127,
   "metadata": {},
   "outputs": [],
   "source": [
    "df_rb_beers = pd.read_csv('raw_data/rate_beer/beers.csv')\n",
    "df_rb_beers = preprocess_rb_beers(df_rb_beers)\n",
    "df_rb_beers.to_csv('data/rate_beer/beers.csv', index=False)"
   ]
  },
  {
   "cell_type": "markdown",
   "metadata": {},
   "source": [
    "## Breweries"
   ]
  },
  {
   "cell_type": "code",
   "execution_count": null,
   "metadata": {},
   "outputs": [],
   "source": [
    "def preprocess_rb_breweries(df_breweries: pd.DataFrame) -> pd.DataFrame:\n",
    "    df_breweries = df_breweries.rename(columns={\n",
    "        'id': 'brewery_id',\n",
    "        'location': 'brewery_location',\n",
    "        'name': 'brewery_name',\n",
    "        'nbr_beers': 'brewery_beers_count',\n",
    "    })\n",
    "\n",
    "    df_breweries['brewery_country'], df_breweries['brewery_region'], df_breweries['brewery_country_code'] = extract_location(df_breweries['brewery_location'])\n",
    "    df_breweries = df_breweries.drop(columns=['brewery_location'])\n",
    "\n",
    "    return df_breweries"
   ]
  },
  {
   "cell_type": "code",
   "execution_count": 129,
   "metadata": {},
   "outputs": [],
   "source": [
    "df_rb_breweries = pd.read_csv('raw_data/rate_beer/breweries.csv')\n",
    "df_rb_breweries = preprocess_rb_breweries(df_rb_breweries)\n",
    "df_rb_breweries.to_csv('data/rate_beer/breweries.csv', index=False)"
   ]
  },
  {
   "cell_type": "markdown",
   "metadata": {},
   "source": [
    "## Users"
   ]
  },
  {
   "cell_type": "code",
   "execution_count": 130,
   "metadata": {},
   "outputs": [],
   "source": [
    "df_rb_users = pd.read_csv('raw_data/rate_beer/users.csv')"
   ]
  },
  {
   "cell_type": "code",
   "execution_count": null,
   "metadata": {},
   "outputs": [],
   "source": [
    "def preprocess_rb_users(df_users: pd.DataFrame) -> pd.DataFrame:\n",
    "    df_users = df_users.sort_values('joined', kind='stable')\n",
    "    df_users = df_users.groupby('user_id').last().reset_index()\n",
    "\n",
    "    df_users = df_users.rename(columns={\n",
    "        'joined': 'user_created_date',\n",
    "        'location': 'user_location',\n",
    "        'nbr_ratings': 'user_ratings_count',\n",
    "    })\n",
    "\n",
    "    df_users['user_country'], df_users['user_region'], df_users['user_country_code'] = extract_location(df_users['user_location'])\n",
    "    df_users = df_users.drop(columns=['user_location'])\n",
    "\n",
    "    return df_users"
   ]
  },
  {
   "cell_type": "code",
   "execution_count": 132,
   "metadata": {},
   "outputs": [],
   "source": [
    "df_rb_users = pd.read_csv('raw_data/rate_beer/users.csv')\n",
    "df_rb_users = preprocess_rb_users(df_rb_users)\n",
    "df_rb_users.to_csv('data/rate_beer/users.csv', index=False)"
   ]
  },
  {
   "cell_type": "markdown",
   "metadata": {},
   "source": [
    "## Ratings & Reviews\n",
    "\n",
    "Since there are only ratings on Rate Beer, the files `ratings.txt` and `reviews.txt` are strictly identical. We discard `reviews.txt` and parse `ratings.txt` using the `txt_to_csv.cpp` utility."
   ]
  },
  {
   "cell_type": "code",
   "execution_count": null,
   "metadata": {},
   "outputs": [],
   "source": [
    "subprocess.run([\n",
    "    'src/scripts/txt_to_csv', \n",
    "    'raw_data/rate_beer/ratings.txt', \n",
    "    'raw_data/rate_beer/ratings.csv'\n",
    "])"
   ]
  },
  {
   "cell_type": "code",
   "execution_count": 135,
   "metadata": {},
   "outputs": [],
   "source": [
    "def preprocess_rb_ratings(df_ratings: pd.DataFrame) -> pd.DataFrame:\n",
    "    df_ratings = df_ratings.drop(columns=['user_name', 'brewery_name', 'beer_name', 'style', 'abv'], errors='ignore')\n",
    "    \n",
    "    df_ratings = df_ratings.sort_values('date')\n",
    "    df_ratings = df_ratings.groupby(['user_id', 'beer_id']).last().reset_index()\n",
    "\n",
    "    df_ratings = df_ratings[['user_id', 'beer_id', 'brewery_id', 'date', 'rating', 'overall', 'aroma', 'appearance', 'palate', 'taste', 'text']]\n",
    "\n",
    "    return df_ratings"
   ]
  },
  {
   "cell_type": "code",
   "execution_count": 136,
   "metadata": {},
   "outputs": [],
   "source": [
    "df_rb_ratings = pd.read_csv('raw_data/rate_beer/ratings.csv')\n",
    "df_rb_ratings = preprocess_rb_ratings(df_rb_ratings)\n",
    "df_rb_ratings.to_csv('data/rate_beer/ratings.csv', index=False)"
   ]
  },
  {
   "cell_type": "markdown",
   "metadata": {},
   "source": [
    "## Memory cleaning"
   ]
  },
  {
   "cell_type": "code",
   "execution_count": null,
   "metadata": {},
   "outputs": [],
   "source": [
    "del df_rb_beers\n",
    "del df_rb_breweries\n",
    "del df_rb_users\n",
    "del df_rb_ratings"
   ]
  },
  {
   "cell_type": "markdown",
   "metadata": {},
   "source": [
    "# Matched Beer Data"
   ]
  },
  {
   "cell_type": "markdown",
   "metadata": {},
   "source": [
    "## Beers"
   ]
  },
  {
   "cell_type": "code",
   "execution_count": null,
   "metadata": {},
   "outputs": [],
   "source": [
    "df_ma_beers = pd.read_csv('raw_data/matched_beer_data/beers.csv', header=[0, 1])\n",
    "df_ma_beers = df_ma_beers[[('ba', 'beer_id'), ('rb', 'beer_id'), ('scores', 'diff'), ('scores', 'sim')]]\n",
    "df_ma_beers.to_csv('data/matched_beer_data/beers.csv', index=False)"
   ]
  },
  {
   "cell_type": "markdown",
   "metadata": {},
   "source": [
    "## Breweries"
   ]
  },
  {
   "cell_type": "code",
   "execution_count": null,
   "metadata": {},
   "outputs": [],
   "source": [
    "df_ma_breweries = pd.read_csv('raw_data/matched_beer_data/breweries.csv', header=[0, 1])\n",
    "df_ma_breweries = df_ma_breweries.rename(columns={'id': 'brewery_id',}, level=1)\n",
    "df_ma_breweries = df_ma_breweries[[('ba', 'brewery_id'), ('rb', 'brewery_id'), ('scores', 'diff'), ('scores', 'sim')]]\n",
    "df_ma_breweries.to_csv('data/matched_beer_data/breweries.csv', index=False)"
   ]
  },
  {
   "cell_type": "markdown",
   "metadata": {},
   "source": [
    "## Users"
   ]
  },
  {
   "cell_type": "code",
   "execution_count": null,
   "metadata": {},
   "outputs": [],
   "source": [
    "df_ma_users = pd.read_csv('raw_data/matched_beer_data/users.csv', header=[0, 1])\n",
    "df_ma_users = df_ma_users[[('ba', 'user_id'), ('rb', 'user_id')]]\n",
    "df_ma_users.to_csv('data/matched_beer_data/users.csv', index=False)"
   ]
  },
  {
   "cell_type": "code",
   "execution_count": null,
   "metadata": {},
   "outputs": [],
   "source": [
    "df_ma_users_approx = pd.read_csv('raw_data/matched_beer_data/users_approx.csv', header=[0, 1])\n",
    "df_ma_users_approx = df_ma_users_approx[[('ba', 'user_id'), ('rb', 'user_id'), ('scores', 'sim')]]\n",
    "df_ma_users_approx.to_csv('data/matched_beer_data/users_approx.csv', index=False)"
   ]
  },
  {
   "cell_type": "markdown",
   "metadata": {},
   "source": [
    "## Ratings & Reviews"
   ]
  },
  {
   "cell_type": "code",
   "execution_count": null,
   "metadata": {},
   "outputs": [],
   "source": [
    "df_ma_ratings = pd.read_csv('raw_data/matched_beer_data/ratings.csv', header=[0, 1])\n",
    "df_ma_ratings = df_ma_ratings[[\n",
    "    ('ba', 'beer_id'), ('ba', 'user_id'), \n",
    "    ('rb', 'beer_id'), ('rb', 'user_id'),\n",
    "]]\n",
    "df_ma_ratings.to_csv('data/matched_beer_data/ratings.csv', index=False)"
   ]
  },
  {
   "cell_type": "markdown",
   "metadata": {},
   "source": [
    "## Memory cleaning"
   ]
  },
  {
   "cell_type": "code",
   "execution_count": null,
   "metadata": {},
   "outputs": [],
   "source": [
    "del df_ma_beers\n",
    "del df_ma_breweries\n",
    "del df_ma_users\n",
    "del df_ma_users_approx\n",
    "del df_ma_ratings"
   ]
  }
 ],
 "metadata": {
  "kernelspec": {
   "display_name": "Python 3",
   "language": "python",
   "name": "python3"
  },
  "language_info": {
   "codemirror_mode": {
    "name": "ipython",
    "version": 3
   },
   "file_extension": ".py",
   "mimetype": "text/x-python",
   "name": "python",
   "nbconvert_exporter": "python",
   "pygments_lexer": "ipython3",
   "version": "3.12.0"
  }
 },
 "nbformat": 4,
 "nbformat_minor": 2
}
