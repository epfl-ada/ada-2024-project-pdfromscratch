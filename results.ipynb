{
 "cells": [
  {
   "cell_type": "code",
   "execution_count": null,
   "metadata": {},
   "outputs": [],
   "source": [
    "import pandas as pd\n",
    "import matplotlib.pyplot as plt\n",
    "import seaborn as sns\n",
    "import numpy as np\n",
    "from scipy import stats\n",
    "\n",
    "sns.set_theme()"
   ]
  },
  {
   "cell_type": "markdown",
   "metadata": {},
   "source": [
    "# Data Loading"
   ]
  },
  {
   "cell_type": "markdown",
   "metadata": {},
   "source": [
    "### Beer Advocate"
   ]
  },
  {
   "cell_type": "code",
   "execution_count": 3,
   "metadata": {},
   "outputs": [],
   "source": [
    "df_ba_beers     = pd.read_csv('data/beer_advocate/beers.csv')\n",
    "df_ba_breweries = pd.read_csv('data/beer_advocate/breweries.csv')\n",
    "df_ba_users     = pd.read_csv('data/beer_advocate/users.csv')\n",
    "df_ba_ratings   = pd.read_csv('data/beer_advocate/ratings.csv')"
   ]
  },
  {
   "cell_type": "markdown",
   "metadata": {},
   "source": [
    "### Rate Beer"
   ]
  },
  {
   "cell_type": "code",
   "execution_count": null,
   "metadata": {},
   "outputs": [],
   "source": [
    "df_rb_beers     = pd.read_csv('data/rate_beer/beers.csv')\n",
    "df_rb_breweries = pd.read_csv('data/rate_beer/breweries.csv')\n",
    "df_rb_users     = pd.read_csv('data/rate_beer/users.csv')\n",
    "df_rb_ratings   = pd.read_csv('data/rate_beer/ratings.csv')"
   ]
  },
  {
   "cell_type": "markdown",
   "metadata": {},
   "source": [
    "### Matched Beer Data"
   ]
  },
  {
   "cell_type": "code",
   "execution_count": null,
   "metadata": {},
   "outputs": [],
   "source": [
    "df_ma_beers        = pd.read_csv('data/matched_beer_data/beers.csv',        header=[0, 1])\n",
    "df_ma_breweries    = pd.read_csv('data/matched_beer_data/breweries.csv',    header=[0, 1])\n",
    "df_ma_ratings      = pd.read_csv('data/matched_beer_data/ratings.csv',      header=[0, 1])\n",
    "df_ma_users        = pd.read_csv('data/matched_beer_data/users.csv',        header=[0, 1])\n",
    "df_ma_users_approx = pd.read_csv('data/matched_beer_data/users_approx.csv', header=[0, 1])"
   ]
  },
  {
   "cell_type": "markdown",
   "metadata": {},
   "source": [
    "# Data Exploration"
   ]
  }
 ],
 "metadata": {
  "kernelspec": {
   "display_name": "Python 3",
   "language": "python",
   "name": "python3"
  },
  "language_info": {
   "codemirror_mode": {
    "name": "ipython",
    "version": 3
   },
   "file_extension": ".py",
   "mimetype": "text/x-python",
   "name": "python",
   "nbconvert_exporter": "python",
   "pygments_lexer": "ipython3",
   "version": "3.12.0"
  }
 },
 "nbformat": 4,
 "nbformat_minor": 2
}
