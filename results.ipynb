{
 "cells": [
  {
   "cell_type": "code",
   "execution_count": null,
   "metadata": {},
   "outputs": [],
   "source": [
    "import pandas as pd\n",
    "import matplotlib.pyplot as plt\n",
    "import seaborn as sns\n",
    "import numpy as np\n",
    "from scipy import stats\n",
    "\n",
    "sns.set_theme()"
   ]
  },
  {
   "cell_type": "markdown",
   "metadata": {},
   "source": [
    "# Data Loading"
   ]
  },
  {
   "cell_type": "markdown",
   "metadata": {},
   "source": [
    "### Beer Advocate"
   ]
  },
  {
   "cell_type": "code",
   "execution_count": null,
   "metadata": {},
   "outputs": [],
   "source": [
    "df_ba_beers     = pd.read_csv('data/beer_advocate/beers.csv')\n",
    "df_ba_breweries = pd.read_csv('data/beer_advocate/breweries.csv')\n",
    "df_ba_users     = pd.read_csv('data/beer_advocate/users.csv')\n",
    "df_ba_ratings   = pd.read_csv('data/beer_advocate/ratings.csv')"
   ]
  },
  {
   "cell_type": "markdown",
   "metadata": {},
   "source": [
    "### Rate Beer"
   ]
  },
  {
   "cell_type": "code",
   "execution_count": null,
   "metadata": {},
   "outputs": [],
   "source": [
    "df_rb_beers     = pd.read_csv('data/rate_beer/beers.csv')\n",
    "df_rb_breweries = pd.read_csv('data/rate_beer/breweries.csv')\n",
    "df_rb_users     = pd.read_csv('data/rate_beer/users.csv')\n",
    "df_rb_ratings   = pd.read_csv('data/rate_beer/ratings.csv')"
   ]
  },
  {
   "cell_type": "markdown",
   "metadata": {},
   "source": [
    "### Matched Beer Data"
   ]
  },
  {
   "cell_type": "code",
   "execution_count": null,
   "metadata": {},
   "outputs": [],
   "source": [
    "df_ma_beers        = pd.read_csv('data/matched_beer_data/beers.csv',        header=[0, 1])\n",
    "df_ma_breweries    = pd.read_csv('data/matched_beer_data/breweries.csv',    header=[0, 1])\n",
    "df_ma_ratings      = pd.read_csv('data/matched_beer_data/ratings.csv',      header=[0, 1])\n",
    "df_ma_users        = pd.read_csv('data/matched_beer_data/users.csv',        header=[0, 1])\n",
    "df_ma_users_approx = pd.read_csv('data/matched_beer_data/users_approx.csv', header=[0, 1])"
   ]
  },
  {
   "cell_type": "markdown",
   "metadata": {},
   "source": [
    "# Data Exploration"
   ]
  },
  {
   "cell_type": "markdown",
   "metadata": {},
   "source": [
    "## Beers"
   ]
  },
  {
   "cell_type": "code",
   "execution_count": null,
   "metadata": {},
   "outputs": [],
   "source": [
    "print(f'[BeerAdovcate] Dataset contains data about {df_ba_beers.shape[0]} beers')\n",
    "df_ba_beers.head(5)"
   ]
  },
  {
   "cell_type": "markdown",
   "metadata": {},
   "source": [
    "### Breweries"
   ]
  },
  {
   "cell_type": "code",
   "execution_count": null,
   "metadata": {},
   "outputs": [],
   "source": [
    "df_beers_by_brewery = df_ba_beers.groupby('brewery_id').size().reset_index().rename(columns={0: 'count'}).sort_values('count', ascending=True)\n",
    "df_beers_by_brewery['CCDF'] = 1 - df_beers_by_brewery['count'].cumsum(0) / df_beers_by_brewery['count'].sum()\n",
    "df_beers_by_brewery.plot(\n",
    "    x='count', y='CCDF', \n",
    "    logx=True, logy=True, \n",
    "    title='[BeerAdvocate] CCDF of number of beers per brewery',\n",
    "    xlabel='Number of beers', \n",
    "    ylabel='CCDF',\n",
    ")\n",
    "print(f'[BeerAdvocate] Quartiles of the number of beers per brewery : {df_beers_by_brewery['count'].quantile([0.25, 0.5, 0.75]).values}')"
   ]
  },
  {
   "cell_type": "markdown",
   "metadata": {},
   "source": [
    "<span style=\"background-color: red; color: white; font-weight: bold; padding: 0.75rem; display: block;\">TODO : Interpretation</span>"
   ]
  },
  {
   "cell_type": "markdown",
   "metadata": {},
   "source": [
    "### Beer Style"
   ]
  },
  {
   "cell_type": "code",
   "execution_count": null,
   "metadata": {},
   "outputs": [],
   "source": [
    "print(f'[BeerAdvocate] Dataset contains data about {df_ba_beers['beer_style'].nunique()} styles of beer')"
   ]
  },
  {
   "cell_type": "markdown",
   "metadata": {},
   "source": [
    "During pre-processing, we grouped several beer styles together into broader categories based on those proposed on the BeerAdvocate website, to create a taxonomy that was easier to analyze."
   ]
  },
  {
   "cell_type": "code",
   "execution_count": null,
   "metadata": {},
   "outputs": [],
   "source": [
    "df_ba_beers.groupby('beer_global_style').size().sort_values(ascending=False).plot(\n",
    "    kind='bar',\n",
    "    title='[BeerAdvocate] Number of beers per global style',\n",
    "    xlabel='Beer style',\n",
    "    ylabel='Number of beers',\n",
    ")"
   ]
  },
  {
   "cell_type": "markdown",
   "metadata": {},
   "source": [
    "<span style=\"background-color: red; color: white; font-weight: bold; padding: 0.75rem; display: block;\">TODO : Interpretation</span>"
   ]
  },
  {
   "cell_type": "markdown",
   "metadata": {},
   "source": [
    "### Number of ratings"
   ]
  },
  {
   "cell_type": "code",
   "execution_count": null,
   "metadata": {},
   "outputs": [],
   "source": [
    "bin_counts = pd.cut(df_ba_beers['ratings_count'], 100).value_counts().sort_index()\n",
    "ratings_per_beer_CCDF = 1 - bin_counts.cumsum(0) / bin_counts.sum()\n",
    "\n",
    "sns.lineplot(\n",
    "    x=[interval.mid for interval in bin_counts.index],\n",
    "    y=ratings_per_beer_CCDF\n",
    ")\n",
    "plt.title('[BeerAdvocate] CCDF of the number of ratings per beer (log-log with 100 bins)')\n",
    "plt.xlabel('Number of ratings')\n",
    "plt.ylabel('CCDF')\n",
    "plt.xscale('log')\n",
    "plt.yscale('log')\n",
    "\n",
    "print(f'[BeerAdvocate] {(df_ba_beers['ratings_count'] == 0).mean() * 100:.2f}% ({(df_ba_beers['ratings_count'] == 0).sum()}) of beers have no ratings')\n",
    "print(f'[BeerAdvocate] Quartiles of the number of ratings per beer : {df_ba_beers['ratings_count'].quantile([0.25, 0.5, 0.75]).values}')"
   ]
  },
  {
   "cell_type": "markdown",
   "metadata": {},
   "source": [
    "<span style=\"background-color: red; color: white; font-weight: bold; padding: 0.75rem; display: block;\">TODO : Interpretation</span>"
   ]
  },
  {
   "cell_type": "markdown",
   "metadata": {},
   "source": [
    "### Average rating"
   ]
  },
  {
   "cell_type": "code",
   "execution_count": null,
   "metadata": {},
   "outputs": [],
   "source": [
    "df_ba_beers['ratings_average'].plot(\n",
    "    kind='box',\n",
    "    title='[BeerAdvocate] Distribution of average ratings per beer',\n",
    "    ylabel='Average rating (/5)'\n",
    ")"
   ]
  },
  {
   "cell_type": "code",
   "execution_count": null,
   "metadata": {},
   "outputs": [],
   "source": [
    "ratings_average_rolling = df_ba_beers[df_ba_beers['ratings_average'].notna()]['ratings_average'].rolling(10).mean()[9:]\n",
    "sns.histplot(ratings_average_rolling, bins=100, kde=True, stat=\"density\")\n",
    "\n",
    "\n",
    "ratings_average_mean = ratings_average_rolling.mean()\n",
    "ratings_average_std  = ratings_average_rolling.std()\n",
    "\n",
    "x = np.linspace(\n",
    "        ratings_average_mean - 4 * ratings_average_std,\n",
    "        ratings_average_mean + 4 * ratings_average_std, \n",
    "        200\n",
    "    )\n",
    "y = stats.norm.pdf(x, ratings_average_mean, ratings_average_std)\n",
    "\n",
    "sns.lineplot(x=x, y=y, color='red')\n",
    "\n",
    "plt.title('[BeerAdvocate] Distribution of average ratings per beer (rolling mean with window=10)')\n",
    "plt.legend(['Beer average rating distribution', 'Normal distribution'])\n",
    "plt.xlabel('Average rating (/5)')"
   ]
  },
  {
   "cell_type": "code",
   "execution_count": null,
   "metadata": {},
   "outputs": [],
   "source": [
    "ALPHA = 0.01\n",
    "normality_test_results = stats.normaltest(df_ba_beers['ratings_average'].dropna())\n",
    "print(f'[BeerAdvocate] {normality_test_results}')\n",
    "print(f'[BeerAdvocate] Normality test for average ratings per beer : reject null hypothesis = {normality_test_results.pvalue < ALPHA}')"
   ]
  },
  {
   "cell_type": "markdown",
   "metadata": {},
   "source": [
    "<span style=\"background-color: red; color: white; font-weight: bold; padding: 0.75rem; display: block;\">TODO : Interpretation (rolling mean because of the underlying distribution of rating with increment of 0.25) </span>"
   ]
  },
  {
   "cell_type": "markdown",
   "metadata": {},
   "source": [
    "## Breweries"
   ]
  },
  {
   "cell_type": "code",
   "execution_count": null,
   "metadata": {},
   "outputs": [],
   "source": [
    "print(f'[BeerAdvocate] Dataset contains data about {df_ba_breweries.shape[0]} breweries')\n",
    "print(f'[BeerAdvocate] Dataset contains data about breweries in {df_ba_breweries[\"brewery_country\"].nunique()} countries')"
   ]
  },
  {
   "cell_type": "markdown",
   "metadata": {},
   "source": [
    "### Country"
   ]
  },
  {
   "cell_type": "code",
   "execution_count": null,
   "metadata": {},
   "outputs": [],
   "source": [
    "print(f'[BeerAdvocate] Quartiles of the number of breweries per country : {df_ba_breweries[\"brewery_country\"].value_counts().quantile([0.25, 0.5, 0.75]).values}')\n",
    "\n",
    "df_ba_breweries['brewery_country'].value_counts().head(50).plot(\n",
    "    kind='bar', \n",
    "    log=True,\n",
    "    figsize=(10, 4),\n",
    "    title='[BeerAdvocate] Number of breweries per country (50 largers producers)',\n",
    "    xlabel='Country',\n",
    "    ylabel='Number of breweries (log scale)',\n",
    ")"
   ]
  },
  {
   "cell_type": "markdown",
   "metadata": {},
   "source": [
    "<span style=\"background-color: red; color: white; font-weight: bold; padding: 0.75rem; display: block;\">TODO : Interpretation</span>"
   ]
  },
  {
   "cell_type": "markdown",
   "metadata": {},
   "source": [
    "## Users"
   ]
  },
  {
   "cell_type": "code",
   "execution_count": null,
   "metadata": {},
   "outputs": [],
   "source": [
    "print(f'[BeerAdvocate] Dataset contains data about {df_ba_users.shape[0]} users')"
   ]
  },
  {
   "cell_type": "markdown",
   "metadata": {},
   "source": [
    "### Ratings"
   ]
  },
  {
   "cell_type": "code",
   "execution_count": null,
   "metadata": {},
   "outputs": [],
   "source": [
    "ratings_per_user_CCDF = 1 - df_ba_users['user_ratings_count'].value_counts().sort_index().cumsum() / df_ba_users.shape[0]\n",
    "\n",
    "ratings_per_user_CCDF.plot(\n",
    "    x=df_ba_users['user_ratings_count'].value_counts().sort_index(),\n",
    "    y=ratings_per_user_CCDF,\n",
    "    logx=True, logy=True, \n",
    "    title='[BeerAdvocate] CCDF of number of ratings per user (log-log)',\n",
    "    xlabel='Number of ratings', \n",
    "    ylabel='CCDF',\n",
    ")\n",
    "\n",
    "print(f'[BeerAdvocate] Quartiles of the number of ratings per user : {df_ba_users['user_ratings_count'].quantile([0.25, 0.5, 0.75]).values}')"
   ]
  },
  {
   "cell_type": "markdown",
   "metadata": {},
   "source": [
    "<span style=\"background-color: red; color: white; font-weight: bold; padding: 0.75rem; display: block;\">TODO : Interpretation</span>"
   ]
  },
  {
   "cell_type": "markdown",
   "metadata": {},
   "source": [
    "### Country"
   ]
  },
  {
   "cell_type": "code",
   "execution_count": null,
   "metadata": {},
   "outputs": [],
   "source": [
    "df_ba_users['user_country'].value_counts().head(10)"
   ]
  },
  {
   "cell_type": "code",
   "execution_count": null,
   "metadata": {},
   "outputs": [],
   "source": [
    "print(f'[BeerAdvocate] Users from United States represent {df_ba_users[\"user_country\"].value_counts(normalize=True).loc['United States'] * 100:.2f}% of accounts')"
   ]
  },
  {
   "cell_type": "code",
   "execution_count": null,
   "metadata": {},
   "outputs": [],
   "source": [
    "df_ba_users['user_country'].value_counts().plot(\n",
    "    kind='bar',\n",
    "    logy=True,\n",
    "    figsize=(20, 4),\n",
    ")"
   ]
  },
  {
   "cell_type": "markdown",
   "metadata": {},
   "source": [
    "<span style=\"background-color: red; color: white; font-weight: bold; padding: 0.75rem; display: block;\">TODO : Interpretation</span>"
   ]
  },
  {
   "cell_type": "markdown",
   "metadata": {},
   "source": [
    "### Creation date"
   ]
  },
  {
   "cell_type": "code",
   "execution_count": null,
   "metadata": {},
   "outputs": [],
   "source": [
    "PRESENT_TIME = df_ba_users['user_created_date'].max()\n",
    "user_years_since_creation = (PRESENT_TIME - df_ba_users['user_created_date']) / 3600 / 24 / 365.25"
   ]
  },
  {
   "cell_type": "code",
   "execution_count": null,
   "metadata": {},
   "outputs": [],
   "source": [
    "print(f'[BeerAdvocate] Mean of the number of years since user creation : {user_years_since_creation.mean():.3f}')\n",
    "print(f'[BeerAdvocate] Quartiles of the number of years since user creation : {user_years_since_creation.quantile([0.25, 0.5, 0.75]).values}')"
   ]
  },
  {
   "cell_type": "code",
   "execution_count": null,
   "metadata": {},
   "outputs": [],
   "source": [
    "user_years_since_creation.plot(\n",
    "    kind='hist',\n",
    "    bins=100,\n",
    "    title='[BeerAdvocate] Distribution of time elapsed since user account creation (years)',\n",
    "    xlabel='Years since user creation',\n",
    "    ylabel='Number of users',\n",
    ")"
   ]
  },
  {
   "cell_type": "markdown",
   "metadata": {},
   "source": [
    "<span style=\"background-color: red; color: white; font-weight: bold; padding: 0.75rem; display: block;\">TODO : Interpretation (talk about the fact that a lot of accounts could be \"dead\" accounts that are not active anymore)</span>"
   ]
  },
  {
   "cell_type": "markdown",
   "metadata": {},
   "source": [
    "## Ratings"
   ]
  },
  {
   "cell_type": "code",
   "execution_count": null,
   "metadata": {},
   "outputs": [],
   "source": [
    "print(f'[BeerAdvocate] Dataset contains data about {df_ba_ratings.shape[0]} ratings')"
   ]
  },
  {
   "cell_type": "markdown",
   "metadata": {},
   "source": [
    "### Date"
   ]
  },
  {
   "cell_type": "code",
   "execution_count": null,
   "metadata": {},
   "outputs": [],
   "source": [
    "pd.to_datetime(df_ba_ratings['date'], unit='s').dt.to_period('Q').value_counts().sort_index().plot(\n",
    "    kind='bar',\n",
    "    figsize=(15, 4),\n",
    "    title='[BeerAdvocate] Number of ratings per quarters',\n",
    "    xlabel='Quarter',\n",
    "    ylabel='Number of ratings'\n",
    ")"
   ]
  },
  {
   "cell_type": "markdown",
   "metadata": {},
   "source": [
    "<span style=\"background-color: red; color: white; font-weight: bold; padding: 0.75rem; display: block;\">TODO : Interpretation</span>"
   ]
  },
  {
   "cell_type": "markdown",
   "metadata": {},
   "source": [
    "### Text"
   ]
  },
  {
   "cell_type": "code",
   "execution_count": null,
   "metadata": {},
   "outputs": [],
   "source": [
    "print(f'[BeerAdvocate] {(df_ba_ratings['text'].notna()).mean() * 100:.2f}% ({(df_ba_ratings['text'].notna()).sum()}) of the reviews contain a text')\n",
    "\n",
    "print(f'[BeerAdvocate] Average length of text in reviews : {df_ba_ratings[\"text\"].str.len().mean():.2f} characters')\n",
    "print(f'[BeerAdvocate] Quartiles of the length of text in reviews : {df_ba_ratings[\"text\"].str.len().quantile([0.25, 0.5, 0.75]).values} characters')\n",
    "\n",
    "print(f'[BeerAdvocate] Average length of text in reviews : {(df_ba_ratings[\"text\"].str.count(' ') + 1).mean():.2f} words')\n",
    "print(f'[BeerAdvocate] Quartiles of the length of text in reviews : {(df_ba_ratings[\"text\"].str.count(' ') + 1).quantile([0.25, 0.5, 0.75]).values} words')"
   ]
  },
  {
   "cell_type": "code",
   "execution_count": null,
   "metadata": {},
   "outputs": [],
   "source": [
    "ratings_text_lengths = df_ba_ratings['text'].str.len()\n",
    "\n",
    "sns.histplot(ratings_text_lengths, bins=100, kde=True, stat=\"density\")\n",
    "\n",
    "\n",
    "ratings_text_length_mean = ratings_text_lengths.mean()\n",
    "ratings_text_length_std  = ratings_text_lengths.std()\n",
    "\n",
    "x = np.linspace(\n",
    "        ratings_text_length_mean - 4 * ratings_text_length_std,\n",
    "        ratings_text_length_mean + 4 * ratings_text_length_std, \n",
    "        200\n",
    "    )\n",
    "y = stats.norm.pdf(x, ratings_text_length_mean, ratings_text_length_std)\n",
    "\n",
    "sns.lineplot(x=x, y=y, color='red')\n",
    "\n",
    "plt.title('[BeerAdvocate] Distribution of length of text ratings')\n",
    "plt.legend(['Review text length distribution', 'Normal distribution'])\n",
    "plt.xlabel('Text length')"
   ]
  },
  {
   "cell_type": "markdown",
   "metadata": {},
   "source": [
    "<span style=\"background-color: red; color: white; font-weight: bold; padding: 0.75rem; display: block;\">TODO : Interpretation</span>"
   ]
  },
  {
   "cell_type": "markdown",
   "metadata": {},
   "source": [
    "### Ratings (subcategories)"
   ]
  },
  {
   "cell_type": "code",
   "execution_count": null,
   "metadata": {},
   "outputs": [],
   "source": [
    "fig, axs = plt.subplots(2, 3, sharey=True, figsize=(12, 6))\n",
    "axs = axs.ravel()\n",
    "\n",
    "for i, c in enumerate(['overall', 'aroma', 'appearance', 'palate', 'taste']):\n",
    "    df_ba_ratings[c].plot(\n",
    "        kind='box',\n",
    "        ax=axs[i],\n",
    "        title=f'[BeerAdvocate] Distribution of {c} ratings',\n",
    "        ylabel=f'{c} rating (/5)'\n",
    "    )\n",
    "\n",
    "fig.delaxes(axs[-1])\n",
    "plt.tight_layout()"
   ]
  },
  {
   "cell_type": "markdown",
   "metadata": {},
   "source": [
    "<span style=\"background-color: red; color: white; font-weight: bold; padding: 0.75rem; display: block;\">TODO : Interpretation</span>"
   ]
  },
  {
   "cell_type": "markdown",
   "metadata": {},
   "source": [
    "# Project"
   ]
  }
 ],
 "metadata": {
  "kernelspec": {
   "display_name": "Python 3",
   "language": "python",
   "name": "python3"
  },
  "language_info": {
   "codemirror_mode": {
    "name": "ipython",
    "version": 3
   },
   "file_extension": ".py",
   "mimetype": "text/x-python",
   "name": "python",
   "nbconvert_exporter": "python",
   "pygments_lexer": "ipython3",
   "version": "3.12.0"
  }
 },
 "nbformat": 4,
 "nbformat_minor": 2
}
