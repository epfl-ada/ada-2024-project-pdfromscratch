{
 "cells": [
  {
   "cell_type": "code",
   "execution_count": null,
   "metadata": {},
   "outputs": [],
   "source": [
    "import pandas as pd\n",
    "import matplotlib.pyplot as plt\n",
    "import seaborn as sns\n",
    "import numpy as np\n",
    "from scipy import stats\n",
    "\n",
    "sns.set_theme()"
   ]
  },
  {
   "cell_type": "code",
   "execution_count": null,
   "metadata": {},
   "outputs": [],
   "source": [
    "def describe_dataframe(dataframe: pd.DataFrame, site: str, name: str):\n",
    "    print(f'[{site}] Dataframe contains {dataframe.shape[0]} rows and {dataframe.shape[1]} columns')    \n",
    "    dataframe.isna().mean(axis=0).sort_values().plot(\n",
    "        figsize=(6, 3),\n",
    "        kind='barh', \n",
    "        title=f'[{site}] Missing values in {name} dataset',\n",
    "        xlabel='Proportion of missing values'\n",
    "    )"
   ]
  },
  {
   "cell_type": "markdown",
   "metadata": {},
   "source": [
    "# Data Exploration - Beer Advocate"
   ]
  },
  {
   "cell_type": "code",
   "execution_count": null,
   "metadata": {},
   "outputs": [],
   "source": [
    "df_ba_beers     = pd.read_csv('src/data/beer_advocate/beers.csv')\n",
    "df_ba_breweries = pd.read_csv('src/data/beer_advocate/breweries.csv')\n",
    "df_ba_users     = pd.read_csv('src/data/beer_advocate/users.csv')\n",
    "df_ba_ratings   = pd.read_csv('src/data/beer_advocate/ratings.csv')"
   ]
  },
  {
   "cell_type": "markdown",
   "metadata": {},
   "source": [
    "## Beers"
   ]
  },
  {
   "cell_type": "code",
   "execution_count": null,
   "metadata": {},
   "outputs": [],
   "source": [
    "describe_dataframe(df_ba_beers, 'BeerAdvocate', 'beers')\n",
    "df_ba_beers.head(5)"
   ]
  },
  {
   "cell_type": "markdown",
   "metadata": {},
   "source": [
    "<span style=\"background-color: red; color: white; font-weight: bold; padding: 0.75rem; display: block;\">TODO : Interpretation, columns with NaNs are not the ones used currently in our analysis, thus it is not a problem</span>"
   ]
  },
  {
   "cell_type": "markdown",
   "metadata": {},
   "source": [
    "### Breweries"
   ]
  },
  {
   "cell_type": "code",
   "execution_count": null,
   "metadata": {},
   "outputs": [],
   "source": [
    "df_beers_by_brewery = df_ba_beers.groupby('brewery_id').size().reset_index().rename(columns={0: 'count'}).sort_values('count', ascending=True)\n",
    "df_beers_by_brewery['CCDF'] = 1 - df_beers_by_brewery['count'].cumsum(0) / df_beers_by_brewery['count'].sum()\n",
    "df_beers_by_brewery.plot(\n",
    "    x='count', y='CCDF', \n",
    "    logx=True, logy=True, \n",
    "    title='[BeerAdvocate] CCDF of number of beers per brewery',\n",
    "    xlabel='Number of beers', \n",
    "    ylabel='CCDF',\n",
    ")\n",
    "print(f'[BeerAdvocate] Quartiles of the number of beers per brewery : {df_beers_by_brewery['count'].quantile([0.25, 0.5, 0.75]).values}')"
   ]
  },
  {
   "cell_type": "markdown",
   "metadata": {},
   "source": [
    "<span style=\"background-color: red; color: white; font-weight: bold; padding: 0.75rem; display: block;\">TODO : Interpretation</span>"
   ]
  },
  {
   "cell_type": "markdown",
   "metadata": {},
   "source": [
    "### Beer Style"
   ]
  },
  {
   "cell_type": "code",
   "execution_count": null,
   "metadata": {},
   "outputs": [],
   "source": [
    "print(f'[BeerAdvocate] Dataset contains data about {df_ba_beers['beer_style'].nunique()} styles of beer')"
   ]
  },
  {
   "cell_type": "markdown",
   "metadata": {},
   "source": [
    "During pre-processing, we grouped several beer styles together into broader categories based on those proposed on the BeerAdvocate website, to create a taxonomy that was easier to analyze."
   ]
  },
  {
   "cell_type": "code",
   "execution_count": null,
   "metadata": {},
   "outputs": [],
   "source": [
    "df_ba_beers.groupby('beer_global_style').size().sort_values(ascending=False).plot(\n",
    "    kind='bar',\n",
    "    title='[BeerAdvocate] Number of beers per global style',\n",
    "    xlabel='Beer style',\n",
    "    ylabel='Number of beers',\n",
    ")"
   ]
  },
  {
   "cell_type": "markdown",
   "metadata": {},
   "source": [
    "<span style=\"background-color: red; color: white; font-weight: bold; padding: 0.75rem; display: block;\">TODO : Interpretation</span>"
   ]
  },
  {
   "cell_type": "markdown",
   "metadata": {},
   "source": [
    "### Number of ratings"
   ]
  },
  {
   "cell_type": "code",
   "execution_count": null,
   "metadata": {},
   "outputs": [],
   "source": [
    "bin_counts = pd.cut(df_ba_beers['ratings_count'], 100).value_counts().sort_index()\n",
    "ratings_per_beer_CCDF = 1 - bin_counts.cumsum(0) / bin_counts.sum()\n",
    "\n",
    "sns.lineplot(\n",
    "    x=[interval.mid for interval in bin_counts.index],\n",
    "    y=ratings_per_beer_CCDF\n",
    ")\n",
    "plt.title('[BeerAdvocate] CCDF of the number of ratings per beer (log-log with 100 bins)')\n",
    "plt.xlabel('Number of ratings')\n",
    "plt.ylabel('CCDF')\n",
    "plt.xscale('log')\n",
    "plt.yscale('log')\n",
    "\n",
    "print(f'[BeerAdvocate] {(df_ba_beers['ratings_count'] == 0).mean() * 100:.2f}% ({(df_ba_beers['ratings_count'] == 0).sum()}) of beers have no ratings')\n",
    "print(f'[BeerAdvocate] Quartiles of the number of ratings per beer : {df_ba_beers['ratings_count'].quantile([0.25, 0.5, 0.75]).values}')"
   ]
  },
  {
   "cell_type": "markdown",
   "metadata": {},
   "source": [
    "<span style=\"background-color: red; color: white; font-weight: bold; padding: 0.75rem; display: block;\">TODO : Interpretation</span>"
   ]
  },
  {
   "cell_type": "markdown",
   "metadata": {},
   "source": [
    "### Average rating"
   ]
  },
  {
   "cell_type": "code",
   "execution_count": null,
   "metadata": {},
   "outputs": [],
   "source": [
    "sns.violinplot(df_ba_beers['ratings_average'], inner='quart')\n",
    "plt.title('[BeerAdvocate] Distribution of average ratings per beer')\n",
    "plt.ylabel('Average rating (/5)')"
   ]
  },
  {
   "cell_type": "code",
   "execution_count": null,
   "metadata": {},
   "outputs": [],
   "source": [
    "ratings_average_rolling = df_ba_beers[df_ba_beers['ratings_average'].notna()]['ratings_average'].rolling(10).mean()[9:]\n",
    "sns.histplot(ratings_average_rolling, bins=100, kde=True, stat=\"density\")\n",
    "\n",
    "\n",
    "ratings_average_mean = ratings_average_rolling.mean()\n",
    "ratings_average_std  = ratings_average_rolling.std()\n",
    "\n",
    "x = np.linspace(\n",
    "        ratings_average_mean - 4 * ratings_average_std,\n",
    "        ratings_average_mean + 4 * ratings_average_std, \n",
    "        200\n",
    "    )\n",
    "y = stats.norm.pdf(x, ratings_average_mean, ratings_average_std)\n",
    "\n",
    "sns.lineplot(x=x, y=y, color='red')\n",
    "\n",
    "plt.title('[BeerAdvocate] Distribution of average ratings per beer (rolling mean with window=10)')\n",
    "plt.legend(['Beer average rating distribution', 'Normal distribution'])\n",
    "plt.xlabel('Average rating (/5)')"
   ]
  },
  {
   "cell_type": "code",
   "execution_count": null,
   "metadata": {},
   "outputs": [],
   "source": [
    "ALPHA = 0.01\n",
    "normality_test_results = stats.normaltest(df_ba_beers['ratings_average'].dropna())\n",
    "print(f'[BeerAdvocate] {normality_test_results}')\n",
    "print(f'[BeerAdvocate] Normality test for average ratings per beer : reject null hypothesis = {normality_test_results.pvalue < ALPHA}')"
   ]
  },
  {
   "cell_type": "markdown",
   "metadata": {},
   "source": [
    "<span style=\"background-color: red; color: white; font-weight: bold; padding: 0.75rem; display: block;\">TODO : Interpretation (rolling mean because of the underlying distribution of rating with increment of 0.25) </span>"
   ]
  },
  {
   "cell_type": "markdown",
   "metadata": {},
   "source": [
    "## Breweries"
   ]
  },
  {
   "cell_type": "code",
   "execution_count": null,
   "metadata": {},
   "outputs": [],
   "source": [
    "describe_dataframe(df_ba_breweries, 'BeerAdvocate', 'beers')\n",
    "print(f'[BeerAdvocate] Dataset contains data about breweries in {df_ba_breweries[\"brewery_country\"].nunique()} countries')\n",
    "df_ba_breweries.head(5)"
   ]
  },
  {
   "cell_type": "markdown",
   "metadata": {},
   "source": [
    "<span style=\"background-color: red; color: white; font-weight: bold; padding: 0.75rem; display: block;\">TODO : Interpretation</span>"
   ]
  },
  {
   "cell_type": "markdown",
   "metadata": {},
   "source": [
    "### Country"
   ]
  },
  {
   "cell_type": "code",
   "execution_count": null,
   "metadata": {},
   "outputs": [],
   "source": [
    "print(f'[BeerAdvocate] Quartiles of the number of breweries per country : {df_ba_breweries[\"brewery_country\"].value_counts().quantile([0.25, 0.5, 0.75]).values}')\n",
    "\n",
    "df_ba_breweries['brewery_country'].value_counts().head(50).plot(\n",
    "    kind='bar', \n",
    "    log=True,\n",
    "    figsize=(10, 4),\n",
    "    title='[BeerAdvocate] Number of breweries per country (50 largers producers)',\n",
    "    xlabel='Country',\n",
    "    ylabel='Number of breweries (log scale)',\n",
    ")"
   ]
  },
  {
   "cell_type": "markdown",
   "metadata": {},
   "source": [
    "<span style=\"background-color: red; color: white; font-weight: bold; padding: 0.75rem; display: block;\">TODO : Interpretation</span>"
   ]
  },
  {
   "cell_type": "markdown",
   "metadata": {},
   "source": [
    "## Users"
   ]
  },
  {
   "cell_type": "code",
   "execution_count": null,
   "metadata": {},
   "outputs": [],
   "source": [
    "describe_dataframe(df_ba_users, 'BeerAdvocate', 'users')\n",
    "df_ba_users.head(5)"
   ]
  },
  {
   "cell_type": "markdown",
   "metadata": {},
   "source": [
    "<span style=\"background-color: red; color: white; font-weight: bold; padding: 0.75rem; display: block;\">TODO : Interpretation</span>"
   ]
  },
  {
   "cell_type": "markdown",
   "metadata": {},
   "source": [
    "### Ratings"
   ]
  },
  {
   "cell_type": "code",
   "execution_count": null,
   "metadata": {},
   "outputs": [],
   "source": [
    "ratings_per_user_CCDF = 1 - df_ba_users['user_ratings_count'].value_counts().sort_index().cumsum() / df_ba_users.shape[0]\n",
    "\n",
    "ratings_per_user_CCDF.plot(\n",
    "    x=df_ba_users['user_ratings_count'].value_counts().sort_index(),\n",
    "    y=ratings_per_user_CCDF,\n",
    "    logx=True, logy=True, \n",
    "    title='[BeerAdvocate] CCDF of number of ratings per user (log-log)',\n",
    "    xlabel='Number of ratings', \n",
    "    ylabel='CCDF',\n",
    ")\n",
    "\n",
    "print(f'[BeerAdvocate] Quartiles of the number of ratings per user : {df_ba_users['user_ratings_count'].quantile([0.25, 0.5, 0.75]).values}')"
   ]
  },
  {
   "cell_type": "markdown",
   "metadata": {},
   "source": [
    "<span style=\"background-color: red; color: white; font-weight: bold; padding: 0.75rem; display: block;\">TODO : Interpretation</span>"
   ]
  },
  {
   "cell_type": "markdown",
   "metadata": {},
   "source": [
    "### Country"
   ]
  },
  {
   "cell_type": "code",
   "execution_count": null,
   "metadata": {},
   "outputs": [],
   "source": [
    "df_ba_users['user_country'].value_counts().head(10)"
   ]
  },
  {
   "cell_type": "code",
   "execution_count": null,
   "metadata": {},
   "outputs": [],
   "source": [
    "print(f'[BeerAdvocate] Users from United States represent {df_ba_users[\"user_country\"].value_counts(normalize=True).loc['United States'] * 100:.2f}% of accounts')"
   ]
  },
  {
   "cell_type": "code",
   "execution_count": null,
   "metadata": {},
   "outputs": [],
   "source": [
    "df_ba_users['user_country'].value_counts().plot(\n",
    "    kind='bar',\n",
    "    figsize=(20, 4),\n",
    "    logy=True,\n",
    "    title='[BeerAdvocate] Number of users per country',\n",
    "    xlabel='Country',\n",
    "    ylabel='Number of users (log scale)',\n",
    ")"
   ]
  },
  {
   "cell_type": "markdown",
   "metadata": {},
   "source": [
    "<span style=\"background-color: red; color: white; font-weight: bold; padding: 0.75rem; display: block;\">TODO : Interpretation</span>"
   ]
  },
  {
   "cell_type": "markdown",
   "metadata": {},
   "source": [
    "### Creation date"
   ]
  },
  {
   "cell_type": "code",
   "execution_count": null,
   "metadata": {},
   "outputs": [],
   "source": [
    "PRESENT_TIME = df_ba_users['user_created_date'].max()\n",
    "user_years_since_creation = (PRESENT_TIME - df_ba_users['user_created_date']) / 3600 / 24 / 365.25"
   ]
  },
  {
   "cell_type": "code",
   "execution_count": null,
   "metadata": {},
   "outputs": [],
   "source": [
    "print(f'[BeerAdvocate] Mean of the number of years since user creation : {user_years_since_creation.mean():.3f}')\n",
    "print(f'[BeerAdvocate] Quartiles of the number of years since user creation : {user_years_since_creation.quantile([0.25, 0.5, 0.75]).values}')"
   ]
  },
  {
   "cell_type": "code",
   "execution_count": null,
   "metadata": {},
   "outputs": [],
   "source": [
    "user_years_since_creation.plot(\n",
    "    kind='hist',\n",
    "    bins=100,\n",
    "    title='[BeerAdvocate] Distribution of time elapsed since user account creation (years)',\n",
    "    xlabel='Years since user creation',\n",
    "    ylabel='Number of users',\n",
    ")"
   ]
  },
  {
   "cell_type": "markdown",
   "metadata": {},
   "source": [
    "<span style=\"background-color: red; color: white; font-weight: bold; padding: 0.75rem; display: block;\">TODO : Interpretation (talk about the fact that a lot of accounts could be \"dead\" accounts that are not active anymore)</span>"
   ]
  },
  {
   "cell_type": "markdown",
   "metadata": {},
   "source": [
    "## Ratings"
   ]
  },
  {
   "cell_type": "code",
   "execution_count": null,
   "metadata": {},
   "outputs": [],
   "source": [
    "describe_dataframe(df_ba_ratings, 'BeerAdvocate', 'ratings')\n",
    "df_ba_ratings.head(5)"
   ]
  },
  {
   "cell_type": "markdown",
   "metadata": {},
   "source": [
    "<span style=\"background-color: red; color: white; font-weight: bold; padding: 0.75rem; display: block;\">TODO : Interpretation, for past_ratings_average it is normal because it is a shifted running average</span>"
   ]
  },
  {
   "cell_type": "markdown",
   "metadata": {},
   "source": [
    "### Date"
   ]
  },
  {
   "cell_type": "code",
   "execution_count": null,
   "metadata": {},
   "outputs": [],
   "source": [
    "pd.to_datetime(df_ba_ratings['date'], unit='s').dt.to_period('Q').value_counts().sort_index().plot(\n",
    "    kind='bar',\n",
    "    figsize=(15, 4),\n",
    "    title='[BeerAdvocate] Number of ratings per quarters',\n",
    "    xlabel='Quarter',\n",
    "    ylabel='Number of ratings'\n",
    ")"
   ]
  },
  {
   "cell_type": "markdown",
   "metadata": {},
   "source": [
    "<span style=\"background-color: red; color: white; font-weight: bold; padding: 0.75rem; display: block;\">TODO : Interpretation</span>"
   ]
  },
  {
   "cell_type": "markdown",
   "metadata": {},
   "source": [
    "### Text"
   ]
  },
  {
   "cell_type": "code",
   "execution_count": null,
   "metadata": {},
   "outputs": [],
   "source": [
    "print(f'[BeerAdvocate] {(df_ba_ratings['text'].notna()).mean() * 100:.2f}% ({(df_ba_ratings['text'].notna()).sum()}) of the reviews contain a text')\n",
    "\n",
    "print(f'[BeerAdvocate] Average length of text in reviews : {df_ba_ratings[\"text\"].str.len().mean():.2f} characters')\n",
    "print(f'[BeerAdvocate] Quartiles of the length of text in reviews : {df_ba_ratings[\"text\"].str.len().quantile([0.25, 0.5, 0.75]).values} characters')\n",
    "\n",
    "print(f'[BeerAdvocate] Average length of text in reviews : {(df_ba_ratings[\"text\"].str.count(' ') + 1).mean():.2f} words')\n",
    "print(f'[BeerAdvocate] Quartiles of the length of text in reviews : {(df_ba_ratings[\"text\"].str.count(' ') + 1).quantile([0.25, 0.5, 0.75]).values} words')"
   ]
  },
  {
   "cell_type": "code",
   "execution_count": null,
   "metadata": {},
   "outputs": [],
   "source": [
    "ratings_text_lengths = df_ba_ratings['text'].str.len()\n",
    "\n",
    "sns.histplot(ratings_text_lengths, bins=100, kde=True, stat=\"density\")\n",
    "\n",
    "\n",
    "ratings_text_length_mean = ratings_text_lengths.mean()\n",
    "ratings_text_length_std  = ratings_text_lengths.std()\n",
    "\n",
    "x = np.linspace(\n",
    "        ratings_text_length_mean - 4 * ratings_text_length_std,\n",
    "        ratings_text_length_mean + 4 * ratings_text_length_std, \n",
    "        200\n",
    "    )\n",
    "y = stats.norm.pdf(x, ratings_text_length_mean, ratings_text_length_std)\n",
    "\n",
    "sns.lineplot(x=x, y=y, color='red')\n",
    "\n",
    "plt.title('[BeerAdvocate] Distribution of length of text ratings')\n",
    "plt.legend(['Review text length distribution', 'Normal distribution'])\n",
    "plt.xlabel('Text length')"
   ]
  },
  {
   "cell_type": "markdown",
   "metadata": {},
   "source": [
    "<span style=\"background-color: red; color: white; font-weight: bold; padding: 0.75rem; display: block;\">TODO : Interpretation</span>"
   ]
  },
  {
   "cell_type": "markdown",
   "metadata": {},
   "source": [
    "### Ratings (subcategories)"
   ]
  },
  {
   "cell_type": "code",
   "execution_count": null,
   "metadata": {},
   "outputs": [],
   "source": [
    "fig, axs = plt.subplots(2, 3, sharey=True, figsize=(12, 6))\n",
    "axs = axs.ravel()\n",
    "\n",
    "for i, c in enumerate(['overall', 'aroma', 'appearance', 'palate', 'taste']):\n",
    "    df_ba_ratings[c].plot(\n",
    "        kind='box',\n",
    "        ax=axs[i],\n",
    "        title=f'[BeerAdvocate] Distribution of {c} ratings',\n",
    "        ylabel=f'{c} rating (/5)'\n",
    "    )\n",
    "\n",
    "fig.delaxes(axs[-1])\n",
    "plt.tight_layout()"
   ]
  },
  {
   "cell_type": "markdown",
   "metadata": {},
   "source": [
    "<span style=\"background-color: red; color: white; font-weight: bold; padding: 0.75rem; display: block;\">TODO : Interpretation</span>"
   ]
  },
  {
   "cell_type": "markdown",
   "metadata": {},
   "source": [
    "### Correlations"
   ]
  },
  {
   "cell_type": "markdown",
   "metadata": {},
   "source": [
    "#### Ratings and subcategories"
   ]
  },
  {
   "cell_type": "code",
   "execution_count": null,
   "metadata": {},
   "outputs": [],
   "source": [
    "ratings_cross_corr_array = df_ba_ratings[[\"rating\",\"overall\",\"aroma\",\"appearance\",\"palate\",\"taste\"]].dropna().to_numpy()\n",
    "corrcoef_ratings = np.corrcoef(ratings_cross_corr_array,rowvar=0)\n",
    "sns.heatmap(corrcoef_ratings,annot=True,xticklabels=[\"rating\",\"overall\",\"aroma\",\"appearance\",\"palate\",\"taste\"],yticklabels=[\"rating\",\"overall\",\"aroma\",\"appearance\",\"palate\",\"taste\"])\n",
    "plt.show()"
   ]
  },
  {
   "cell_type": "markdown",
   "metadata": {},
   "source": [
    "<span style=\"background-color: red; color: white; font-weight: bold; padding: 0.75rem; display: block;\">TODO : Interpretation</span>"
   ]
  },
  {
   "cell_type": "code",
   "execution_count": null,
   "metadata": {},
   "outputs": [],
   "source": [
    "del corrcoef_ratings"
   ]
  },
  {
   "cell_type": "markdown",
   "metadata": {},
   "source": [
    "#### Ratings and past ratings"
   ]
  },
  {
   "cell_type": "code",
   "execution_count": null,
   "metadata": {},
   "outputs": [],
   "source": [
    "df_ba_ratings_full_corr_coef = df_ba_ratings.drop([\"user_id\",\"beer_id\",\"brewery_id\",\"date\",\"review\",\"text\",\"overall\",\"aroma\",\"appearance\",\"palate\",\"taste\",\"beer_global_style\"],axis=1)\n",
    "df_ba_ratings_full_corr_coef.dropna(inplace=True)\n",
    "corr_columns = df_ba_ratings_full_corr_coef.columns\n",
    "\n",
    "corrcoef_ratings = np.corrcoef(df_ba_ratings_full_corr_coef.to_numpy(),rowvar=0)\n",
    "\n",
    "triup_array = np.triu(corrcoef_ratings)\n",
    "\n",
    "sns.heatmap(triup_array,\n",
    "            annot=True,\n",
    "            xticklabels=corr_columns,\n",
    "            yticklabels=corr_columns,\n",
    "            fmt=\".1f\",\n",
    "            mask=np.abs(triup_array) < 0.5)\n",
    "plt.show()"
   ]
  },
  {
   "cell_type": "markdown",
   "metadata": {},
   "source": [
    "<span style=\"background-color: red; color: white; font-weight: bold; padding: 0.75rem; display: block;\">TODO : Interpretation</span>"
   ]
  },
  {
   "cell_type": "code",
   "execution_count": null,
   "metadata": {},
   "outputs": [],
   "source": [
    "del df_ba_ratings_full_corr_coef\n",
    "del corrcoef_ratings\n",
    "del triup_array"
   ]
  },
  {
   "cell_type": "markdown",
   "metadata": {},
   "source": [
    "# Data Exploration - Rate Beer"
   ]
  },
  {
   "cell_type": "code",
   "execution_count": null,
   "metadata": {},
   "outputs": [],
   "source": [
    "df_rb_beers     = pd.read_csv('src/data/rate_beer/beers.csv')\n",
    "df_rb_breweries = pd.read_csv('src/data/rate_beer/breweries.csv')\n",
    "df_rb_users     = pd.read_csv('src/data/rate_beer/users.csv')\n",
    "df_rb_ratings   = pd.read_csv('src/data/rate_beer/ratings.csv')"
   ]
  },
  {
   "cell_type": "markdown",
   "metadata": {},
   "source": [
    "## Beer"
   ]
  },
  {
   "cell_type": "code",
   "execution_count": null,
   "metadata": {},
   "outputs": [],
   "source": [
    "describe_dataframe(df_rb_beers, 'RateBeer', 'beers')\n",
    "df_rb_beers.head(5)"
   ]
  },
  {
   "cell_type": "markdown",
   "metadata": {},
   "source": [
    "<span style=\"background-color: red; color: white; font-weight: bold; padding: 0.75rem; display: block;\">TODO : Interpretation</span>"
   ]
  },
  {
   "cell_type": "markdown",
   "metadata": {},
   "source": [
    "### Breweries"
   ]
  },
  {
   "cell_type": "code",
   "execution_count": null,
   "metadata": {},
   "outputs": [],
   "source": [
    "df_beers_by_brewery = df_rb_beers.groupby('brewery_id').size()\n",
    "df_beers_by_brewery.plot(\n",
    "    kind='hist',\n",
    "    log=True, \n",
    "    bins=100,\n",
    "    title='[RateBeer] Number of beers per brewery',\n",
    "    xlabel='Number of beers',\n",
    "    ylabel='Number of breweries',\n",
    ")\n",
    "print(f'[RateBeer] Quartiles of the number of beers per brewery : {df_beers_by_brewery.quantile([0.25, 0.5, 0.75]).values}')"
   ]
  },
  {
   "cell_type": "markdown",
   "metadata": {},
   "source": [
    "<span style=\"background-color: red; color: white; font-weight: bold; padding: 0.75rem; display: block;\">TODO : Interpretation</span>"
   ]
  },
  {
   "cell_type": "markdown",
   "metadata": {},
   "source": [
    "### Beer Style"
   ]
  },
  {
   "cell_type": "code",
   "execution_count": null,
   "metadata": {},
   "outputs": [],
   "source": [
    "print(f'[RateBeer] Dataset contains data about {df_rb_beers['beer_style'].nunique()} styles of beer')"
   ]
  },
  {
   "cell_type": "code",
   "execution_count": null,
   "metadata": {},
   "outputs": [],
   "source": [
    "df_rb_beers.groupby('beer_global_style').size().sort_values(ascending=False).plot(\n",
    "    kind='bar',\n",
    "    title='[RateBeer] Number of beers per global style',\n",
    "    xlabel='Beer style',\n",
    "    ylabel='Number of beers',\n",
    ")"
   ]
  },
  {
   "cell_type": "markdown",
   "metadata": {},
   "source": [
    "<span style=\"background-color: red; color: white; font-weight: bold; padding: 0.75rem; display: block;\">TODO : Interpretation</span>"
   ]
  },
  {
   "cell_type": "markdown",
   "metadata": {},
   "source": [
    "### Ratings count"
   ]
  },
  {
   "cell_type": "code",
   "execution_count": null,
   "metadata": {},
   "outputs": [],
   "source": [
    "df_rb_beers['ratings_count'].plot(\n",
    "    kind='hist',\n",
    "    bins=100, \n",
    "    log=True,\n",
    "    title='[RateBeer] Distribution of the number of ratings per beer',\n",
    "    xlabel='Number of ratings',\n",
    "    ylabel='Number of beers (log scale)',\n",
    ")\n",
    "\n",
    "print(f'[RateBeer] {(df_rb_beers['ratings_count'] == 0).mean() * 100:.2f}% ({(df_rb_beers['ratings_count'] == 0).sum()}) of beers have no ratings')\n",
    "print(f'[RateBeer] Quartiles of the number of ratings per beer : {df_rb_beers['ratings_count'].quantile([0.25, 0.5, 0.75]).values}')"
   ]
  },
  {
   "cell_type": "markdown",
   "metadata": {},
   "source": [
    "<span style=\"background-color: red; color: white; font-weight: bold; padding: 0.75rem; display: block;\">TODO : Interpretation</span>"
   ]
  },
  {
   "cell_type": "markdown",
   "metadata": {},
   "source": [
    "### Ratings average"
   ]
  },
  {
   "cell_type": "code",
   "execution_count": null,
   "metadata": {},
   "outputs": [],
   "source": [
    "sns.violinplot(df_rb_beers['ratings_average'], inner='quart')\n",
    "plt.title('[RateBeer] Distribution of average ratings per beer')\n",
    "plt.ylabel('Average rating (/5)')"
   ]
  },
  {
   "cell_type": "markdown",
   "metadata": {},
   "source": [
    "<span style=\"background-color: red; color: white; font-weight: bold; padding: 0.75rem; display: block;\">TODO : Interpretation</span>"
   ]
  },
  {
   "cell_type": "code",
   "execution_count": null,
   "metadata": {},
   "outputs": [],
   "source": [
    "ratings_average_rolling = df_rb_beers[df_rb_beers['ratings_average'].notna()]['ratings_average'].rolling(10).mean()[9:]\n",
    "sns.histplot(ratings_average_rolling, bins=100, kde=True, stat=\"density\")\n",
    "\n",
    "\n",
    "ratings_average_mean = ratings_average_rolling.mean()\n",
    "ratings_average_std  = ratings_average_rolling.std()\n",
    "\n",
    "x = np.linspace(\n",
    "        ratings_average_mean - 4 * ratings_average_std,\n",
    "        ratings_average_mean + 4 * ratings_average_std, \n",
    "        200\n",
    "    )\n",
    "y = stats.norm.pdf(x, ratings_average_mean, ratings_average_std)\n",
    "\n",
    "sns.lineplot(x=x, y=y, color='red')\n",
    "\n",
    "plt.title('[RateBeer] Distribution of average ratings per beer (rolling mean with window=10)')\n",
    "plt.legend(['Beer average rating distribution', 'Normal distribution'])\n",
    "plt.xlabel('Average rating (/5)')"
   ]
  },
  {
   "cell_type": "markdown",
   "metadata": {},
   "source": [
    "<span style=\"background-color: red; color: white; font-weight: bold; padding: 0.75rem; display: block;\">TODO : Interpretation</span>"
   ]
  },
  {
   "cell_type": "code",
   "execution_count": null,
   "metadata": {},
   "outputs": [],
   "source": [
    "ALPHA = 0.01\n",
    "normality_test_results = stats.normaltest(df_rb_beers['ratings_average'].dropna())\n",
    "print(f'[RateBeer] {normality_test_results}')\n",
    "print(f'[RateBeer] Normality test for average ratings per beer : reject null hypothesis = {normality_test_results.pvalue < ALPHA}')"
   ]
  },
  {
   "cell_type": "markdown",
   "metadata": {},
   "source": [
    "## Breweries"
   ]
  },
  {
   "cell_type": "code",
   "execution_count": null,
   "metadata": {},
   "outputs": [],
   "source": [
    "describe_dataframe(df_rb_breweries, 'RateBeer', 'breweries')\n",
    "print(f'[RateBeer] Dataset contains data about breweries in {df_ba_breweries[\"brewery_country\"].nunique()} countries')\n",
    "df_rb_breweries.head(5)"
   ]
  },
  {
   "cell_type": "markdown",
   "metadata": {},
   "source": [
    "<span style=\"background-color: red; color: white; font-weight: bold; padding: 0.75rem; display: block;\">TODO : Interpretation</span>"
   ]
  },
  {
   "cell_type": "markdown",
   "metadata": {},
   "source": [
    "### Country"
   ]
  },
  {
   "cell_type": "code",
   "execution_count": null,
   "metadata": {},
   "outputs": [],
   "source": [
    "print(f'[RateBeer] Quartiles of the number of breweries per country : {df_rb_breweries[\"brewery_country\"].value_counts().quantile([0.25, 0.5, 0.75]).values}')\n",
    "\n",
    "df_rb_breweries['brewery_country'].value_counts().head(50).plot(\n",
    "    kind='bar', \n",
    "    log=True,\n",
    "    figsize=(10, 4),\n",
    "    title='[RateBeer] Number of breweries per country (50 largers producers)',\n",
    "    xlabel='Country',\n",
    "    ylabel='Number of breweries (log scale)',\n",
    ")"
   ]
  },
  {
   "cell_type": "markdown",
   "metadata": {},
   "source": [
    "<span style=\"background-color: red; color: white; font-weight: bold; padding: 0.75rem; display: block;\">TODO : Interpretation</span>"
   ]
  },
  {
   "cell_type": "markdown",
   "metadata": {},
   "source": [
    "## Users"
   ]
  },
  {
   "cell_type": "code",
   "execution_count": null,
   "metadata": {},
   "outputs": [],
   "source": [
    "describe_dataframe(df_rb_users, 'RateBeer', 'users')\n",
    "df_rb_users.head(5)"
   ]
  },
  {
   "cell_type": "markdown",
   "metadata": {},
   "source": [
    "<span style=\"background-color: red; color: white; font-weight: bold; padding: 0.75rem; display: block;\">TODO : Interpretation</span>"
   ]
  },
  {
   "cell_type": "markdown",
   "metadata": {},
   "source": [
    "### Ratings"
   ]
  },
  {
   "cell_type": "code",
   "execution_count": null,
   "metadata": {},
   "outputs": [],
   "source": [
    "ratings_per_user_CCDF = 1 - df_rb_users['user_ratings_count'].value_counts().sort_index().cumsum() / df_rb_users.shape[0]\n",
    "\n",
    "ratings_per_user_CCDF.plot(\n",
    "    x=df_rb_users['user_ratings_count'].value_counts().sort_index(),\n",
    "    y=ratings_per_user_CCDF,\n",
    "    logx=True, logy=True, \n",
    "    title='[BeerAdvocate] CCDF of number of ratings per user (log-log)',\n",
    "    xlabel='Number of ratings', \n",
    "    ylabel='CCDF',\n",
    ")\n",
    "\n",
    "print(f'[RateBeer] Quartiles of the number of ratings per user : {df_rb_users['user_ratings_count'].quantile([0.25, 0.5, 0.75]).values}')"
   ]
  },
  {
   "cell_type": "markdown",
   "metadata": {},
   "source": [
    "<span style=\"background-color: red; color: white; font-weight: bold; padding: 0.75rem; display: block;\">TODO : Interpretation</span>"
   ]
  },
  {
   "cell_type": "markdown",
   "metadata": {},
   "source": [
    "### Country"
   ]
  },
  {
   "cell_type": "code",
   "execution_count": null,
   "metadata": {},
   "outputs": [],
   "source": [
    "df_rb_users['user_country'].value_counts().head(10)"
   ]
  },
  {
   "cell_type": "code",
   "execution_count": null,
   "metadata": {},
   "outputs": [],
   "source": [
    "print(f'[RateBeer] Users from United States represent {df_rb_users[\"user_country\"].value_counts(normalize=True).loc['United States'] * 100:.2f}% of accounts')"
   ]
  },
  {
   "cell_type": "code",
   "execution_count": null,
   "metadata": {},
   "outputs": [],
   "source": [
    "df_rb_users['user_country'].value_counts().plot(\n",
    "    kind='bar',\n",
    "    logy=True,\n",
    "    figsize=(20, 4),\n",
    "    title='[RateBeer] Number of users per country',\n",
    "    xlabel='Country',\n",
    "    ylabel='Number of users (log scale)',\n",
    ")"
   ]
  },
  {
   "cell_type": "markdown",
   "metadata": {},
   "source": [
    "<span style=\"background-color: red; color: white; font-weight: bold; padding: 0.75rem; display: block;\">TODO : Interpretation</span>"
   ]
  },
  {
   "cell_type": "markdown",
   "metadata": {},
   "source": [
    "### Creation date"
   ]
  },
  {
   "cell_type": "code",
   "execution_count": null,
   "metadata": {},
   "outputs": [],
   "source": [
    "PRESENT_TIME = df_rb_users['user_created_date'].max()\n",
    "user_years_since_creation = (PRESENT_TIME - df_rb_users['user_created_date']) / 3600 / 24 / 365.25"
   ]
  },
  {
   "cell_type": "code",
   "execution_count": null,
   "metadata": {},
   "outputs": [],
   "source": [
    "print(f'[RateBeer] Mean of the number of years since user creation : {user_years_since_creation.mean():.3f}')\n",
    "print(f'[RateBeer] Quartiles of the number of years since user creation : {user_years_since_creation.quantile([0.25, 0.5, 0.75]).values}')"
   ]
  },
  {
   "cell_type": "code",
   "execution_count": null,
   "metadata": {},
   "outputs": [],
   "source": [
    "user_years_since_creation.plot(\n",
    "    kind='hist',\n",
    "    bins=100,\n",
    "    title='[RateBeer] Distribution of time elapsed since user account creation (years)',\n",
    "    xlabel='Years since user creation',\n",
    "    ylabel='Number of users',\n",
    ")"
   ]
  },
  {
   "cell_type": "markdown",
   "metadata": {},
   "source": [
    "<span style=\"background-color: red; color: white; font-weight: bold; padding: 0.75rem; display: block;\">TODO : Interpretation</span>"
   ]
  },
  {
   "cell_type": "markdown",
   "metadata": {},
   "source": [
    "## Ratings"
   ]
  },
  {
   "cell_type": "code",
   "execution_count": null,
   "metadata": {},
   "outputs": [],
   "source": [
    "describe_dataframe(df_rb_ratings, 'RateBeer', 'ratings')\n",
    "df_rb_ratings.head(5)"
   ]
  },
  {
   "cell_type": "markdown",
   "metadata": {},
   "source": [
    "<span style=\"background-color: red; color: white; font-weight: bold; padding: 0.75rem; display: block;\">TODO : Interpretation</span>"
   ]
  },
  {
   "cell_type": "markdown",
   "metadata": {},
   "source": [
    "### Date"
   ]
  },
  {
   "cell_type": "code",
   "execution_count": null,
   "metadata": {},
   "outputs": [],
   "source": [
    "pd.to_datetime(df_rb_ratings['date'], unit='s').dt.to_period('Q').value_counts().sort_index().plot(\n",
    "    kind='bar',\n",
    "    figsize=(15, 4),\n",
    "    title='[RateBeer] Number of ratings per quarters',\n",
    "    xlabel='Quarter',\n",
    "    ylabel='Number of ratings'\n",
    ")"
   ]
  },
  {
   "cell_type": "markdown",
   "metadata": {},
   "source": [
    "<span style=\"background-color: red; color: white; font-weight: bold; padding: 0.75rem; display: block;\">TODO : Interpretation</span>"
   ]
  },
  {
   "cell_type": "markdown",
   "metadata": {},
   "source": [
    "### Text"
   ]
  },
  {
   "cell_type": "code",
   "execution_count": null,
   "metadata": {},
   "outputs": [],
   "source": [
    "print(f'[RateBeer] {(df_ba_ratings['text'].notna()).mean() * 100:.2f}% ({(df_ba_ratings['text'].notna()).sum()}) of the reviews contain a text')\n",
    "\n",
    "print(f'[RateBeer] Average length of text in reviews : {df_ba_ratings[\"text\"].str.len().mean():.2f} characters')\n",
    "print(f'[RateBeer] Quartiles of the length of text in reviews : {df_ba_ratings[\"text\"].str.len().quantile([0.25, 0.5, 0.75]).values} characters')\n",
    "\n",
    "print(f'[RateBeer] Average length of text in reviews : {(df_ba_ratings[\"text\"].str.count(' ') + 1).mean():.2f} words')\n",
    "print(f'[RateBeer] Quartiles of the length of text in reviews : {(df_ba_ratings[\"text\"].str.count(' ') + 1).quantile([0.25, 0.5, 0.75]).values} words')"
   ]
  },
  {
   "cell_type": "code",
   "execution_count": null,
   "metadata": {},
   "outputs": [],
   "source": [
    "ratings_text_lengths = df_rb_ratings['text'].str.len()\n",
    "\n",
    "sns.histplot(ratings_text_lengths, bins=100, kde=True, stat=\"density\")\n",
    "\n",
    "\n",
    "ratings_text_length_mean = ratings_text_lengths.mean()\n",
    "ratings_text_length_std  = ratings_text_lengths.std()\n",
    "\n",
    "x = np.linspace(\n",
    "        ratings_text_length_mean - 4 * ratings_text_length_std,\n",
    "        ratings_text_length_mean + 4 * ratings_text_length_std, \n",
    "        200\n",
    "    )\n",
    "y = stats.norm.pdf(x, ratings_text_length_mean, ratings_text_length_std)\n",
    "\n",
    "sns.lineplot(x=x, y=y, color='red')\n",
    "\n",
    "plt.title('[RateBeer] Distribution of length of text ratings')\n",
    "plt.legend(['Review text length distribution', 'Normal distribution'])\n",
    "plt.xlabel('Text length')"
   ]
  },
  {
   "cell_type": "markdown",
   "metadata": {},
   "source": [
    "<span style=\"background-color: red; color: white; font-weight: bold; padding: 0.75rem; display: block;\">TODO : Interpretation</span>"
   ]
  },
  {
   "cell_type": "markdown",
   "metadata": {},
   "source": [
    "### Ratings (subcategories)"
   ]
  },
  {
   "cell_type": "code",
   "execution_count": null,
   "metadata": {},
   "outputs": [],
   "source": [
    "fig, axs = plt.subplots(2, 3, sharey=True, figsize=(12, 6))\n",
    "axs = axs.ravel()\n",
    "\n",
    "for i, c in enumerate(['overall', 'aroma', 'appearance', 'palate', 'taste']):\n",
    "    df_rb_ratings[c].plot(\n",
    "        kind='box',\n",
    "        ax=axs[i],\n",
    "        title=f'[RateBeer] Distribution of {c} ratings',\n",
    "        ylabel=f'{c} rating (/5)'\n",
    "    )\n",
    "\n",
    "fig.delaxes(axs[-1])\n",
    "plt.tight_layout()"
   ]
  },
  {
   "cell_type": "markdown",
   "metadata": {},
   "source": [
    "<span style=\"background-color: red; color: white; font-weight: bold; padding: 0.75rem; display: block;\">TODO : Interpretation</span>"
   ]
  },
  {
   "cell_type": "markdown",
   "metadata": {},
   "source": [
    "### Correlations"
   ]
  },
  {
   "cell_type": "markdown",
   "metadata": {},
   "source": [
    "#### Ratings and subcategories"
   ]
  },
  {
   "cell_type": "code",
   "execution_count": null,
   "metadata": {},
   "outputs": [],
   "source": [
    "ratings_cross_corr_array = df_rb_ratings[[\"rating\",\"overall\",\"aroma\",\"appearance\",\"palate\",\"taste\"]].dropna().to_numpy()\n",
    "corrcoef_ratings = np.corrcoef(ratings_cross_corr_array,rowvar=0)\n",
    "sns.heatmap(corrcoef_ratings,annot=True,xticklabels=[\"rating\",\"overall\",\"aroma\",\"appearance\",\"palate\",\"taste\"],yticklabels=[\"rating\",\"overall\",\"aroma\",\"appearance\",\"palate\",\"taste\"])\n",
    "plt.show()"
   ]
  },
  {
   "cell_type": "markdown",
   "metadata": {},
   "source": [
    "<span style=\"background-color: red; color: white; font-weight: bold; padding: 0.75rem; display: block;\">TODO : Interpretation</span>"
   ]
  },
  {
   "cell_type": "code",
   "execution_count": null,
   "metadata": {},
   "outputs": [],
   "source": [
    "del corrcoef_ratings"
   ]
  },
  {
   "cell_type": "markdown",
   "metadata": {},
   "source": [
    "#### Ratings and past ratings"
   ]
  },
  {
   "cell_type": "code",
   "execution_count": null,
   "metadata": {},
   "outputs": [],
   "source": [
    "df_rb_ratings_full_corr_coef = df_rb_ratings.drop([\"user_id\",\"beer_id\",\"brewery_id\",\"date\",\"review\",\"text\",\"overall\",\"aroma\",\"appearance\",\"palate\",\"taste\",\"beer_global_style\"],axis=1)\n",
    "df_rb_ratings_full_corr_coef.dropna(inplace=True)\n",
    "corr_columns = df_rb_ratings_full_corr_coef.columns\n",
    "\n",
    "corrcoef_ratings = np.corrcoef(df_rb_ratings_full_corr_coef.to_numpy(),rowvar=0)\n",
    "\n",
    "triup_array = np.triu(corrcoef_ratings)\n",
    "\n",
    "sns.heatmap(triup_array,\n",
    "            annot=True,\n",
    "            xticklabels=corr_columns,\n",
    "            yticklabels=corr_columns,\n",
    "            fmt=\".1f\",\n",
    "            mask=np.abs(triup_array) < 0.5)\n",
    "plt.show()"
   ]
  },
  {
   "cell_type": "markdown",
   "metadata": {},
   "source": [
    "<span style=\"background-color: red; color: white; font-weight: bold; padding: 0.75rem; display: block;\">TODO : Interpretation</span>"
   ]
  },
  {
   "cell_type": "code",
   "execution_count": null,
   "metadata": {},
   "outputs": [],
   "source": [
    "del df_rb_ratings_full_corr_coef\n",
    "del corrcoef_ratings\n",
    "del triup_array"
   ]
  }
 ],
 "metadata": {
  "kernelspec": {
   "display_name": "ada_project",
   "language": "python",
   "name": "python3"
  },
  "language_info": {
   "codemirror_mode": {
    "name": "ipython",
    "version": 3
   },
   "file_extension": ".py",
   "mimetype": "text/x-python",
   "name": "python",
   "nbconvert_exporter": "python",
   "pygments_lexer": "ipython3",
   "version": "3.13.0"
  }
 },
 "nbformat": 4,
 "nbformat_minor": 2
}
